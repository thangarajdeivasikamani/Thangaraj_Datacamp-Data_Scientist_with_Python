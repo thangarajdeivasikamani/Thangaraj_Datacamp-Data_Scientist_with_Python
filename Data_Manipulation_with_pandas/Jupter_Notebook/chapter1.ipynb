{
 "cells": [
  {
   "cell_type": "markdown",
   "metadata": {},
   "source": [
    "# Inspecting a DataFrame"
   ]
  },
  {
   "cell_type": "raw",
   "metadata": {},
   "source": [
    "## Inspecting a DataFrame\n",
    "\n",
    "When you get a new DataFrame to work with, the first thing you need to do is explore it and see what it contains. There are several useful methods and attributes for this.\n",
    "\n",
    "* `.head()` returns the first few rows (the â€œheadâ€ of the DataFrame.\n",
    "* `.info()` shows information on each of the columns, such as the data type and number of missing values.\n",
    "* `.shape` returns the number of rows and columns of the DataFrame.\n",
    "* `.describe()` calculates a few summary statistics for each column.\n",
    "\n",
    "`homelessness` is a DataFrame containing estimates of homelessness in each U.S. state in 2018. The individual column is the number of homeless `individuals` not part of a family with children. The `family_members` column is the number of homeless individuals part of a family with children. The `state_pop` column is the state's total population.\n",
    "\n",
    "`pandas` is imported for you.\n",
    "\n",
    "<hr>\n",
    "\n",
    "**Instructions**\n",
    "* Print the head of the homelessness data\n",
    "* Print information about homelessness\n",
    "* Print the shape of homelessness\n",
    "* Print a description of homelessness\n"
   ]
  },
  {
   "cell_type": "code",
   "execution_count": 3,
   "metadata": {},
   "outputs": [
    {
     "name": "stdout",
     "output_type": "stream",
     "text": [
      "   Unnamed: 0              region       state  individuals  family_members  \\\n",
      "0           0  East South Central     Alabama         2570             864   \n",
      "1           1             Pacific      Alaska         1434             582   \n",
      "2           2            Mountain     Arizona         7259            2606   \n",
      "3           3  West South Central    Arkansas         2280             432   \n",
      "4           4             Pacific  California       109008           20964   \n",
      "\n",
      "   state_pop  \n",
      "0    4887681  \n",
      "1     735139  \n",
      "2    7158024  \n",
      "3    3009733  \n",
      "4   39461588  \n",
      "<class 'pandas.core.frame.DataFrame'>\n",
      "RangeIndex: 34 entries, 0 to 33\n",
      "Data columns (total 6 columns):\n",
      "Unnamed: 0        34 non-null int64\n",
      "region            34 non-null object\n",
      "state             34 non-null object\n",
      "individuals       34 non-null int64\n",
      "family_members    34 non-null int64\n",
      "state_pop         34 non-null int64\n",
      "dtypes: int64(4), object(2)\n",
      "memory usage: 1.7+ KB\n",
      "None\n",
      "(34, 6)\n",
      "       Unnamed: 0    individuals  family_members     state_pop\n",
      "count   34.000000      34.000000       34.000000  3.400000e+01\n",
      "mean    16.500000    8287.058824     4242.147059  6.556360e+06\n",
      "std      9.958246   19189.160845     9411.289453  7.611878e+06\n",
      "min      0.000000     708.000000      328.000000  7.015470e+05\n",
      "25%      8.250000    1719.500000      630.250000  1.967396e+06\n",
      "50%     16.500000    3773.000000     1589.000000  4.560422e+06\n",
      "75%     24.750000    6676.750000     3140.000000  7.089177e+06\n",
      "max     33.000000  109008.000000    52070.000000  3.946159e+07\n"
     ]
    }
   ],
   "source": [
    "import pandas as pd\n",
    "homelessness_data_file= r'C:\\Machinelearning\\datacamp\\Thangaraj_Datacamp-Data_Scientist_with_Python\\Data_Manipulation_with_pandas\\Datasets\\homelessness.csv'\n",
    "homelessness = pd.read_csv(homelessness_data_file)\n",
    "## Script\n",
    "\n",
    "# Print the head of the homelessness data\n",
    "print(homelessness.head())\n",
    "\n",
    "# Print information about homelessness\n",
    "print(homelessness.info())\n",
    "\n",
    "# Print the shape of homelessness\n",
    "print(homelessness.shape)\n",
    "\n",
    "# Print a description of homelessness\n",
    "print(homelessness.describe())\n",
    "\n"
   ]
  },
  {
   "cell_type": "markdown",
   "metadata": {},
   "source": [
    "# Parts of a DataFrame"
   ]
  },
  {
   "cell_type": "raw",
   "metadata": {},
   "source": [
    "## Parts of a DataFrame\n",
    "\n",
    "To better understand DataFrame objects, it's useful to know that they consist of three components, stored as attributes:\n",
    "* `.values`: A two-dimensional NumPy array of values.\n",
    "* `.columns`: An index of columns: the column names.\n",
    "* `.index`: An index for the rows: either row numbers or row names.\n",
    "\n",
    "You can usually think of indexes as being like a list of strings or numbers, though the pandas `Index` data type allows for more sophisticated options. (These will be covered later in the course.)\n",
    "\n",
    "`homelessness` is available.\n",
    "\n",
    "<hr>\n",
    "\n",
    "**Instructions**\n",
    "* Import `pandas` using the alias `pd`.\n",
    "* Print a 2D NumPy array of the values in `homelessness`.\n",
    "* Print the column names of `homelessness`.\n",
    "* Print the index of `homelessness`."
   ]
  },
  {
   "cell_type": "code",
   "execution_count": 4,
   "metadata": {},
   "outputs": [
    {
     "name": "stdout",
     "output_type": "stream",
     "text": [
      "[[0 'East South Central' 'Alabama' 2570 864 4887681]\n",
      " [1 'Pacific' 'Alaska' 1434 582 735139]\n",
      " [2 'Mountain' 'Arizona' 7259 2606 7158024]\n",
      " [3 'West South Central' 'Arkansas' 2280 432 3009733]\n",
      " [4 'Pacific' 'California' 109008 20964 39461588]\n",
      " [5 'Mountain' 'Colorado' 7607 3250 5691287]\n",
      " [6 'New England' 'Connecticut' 2280 1696 3571520]\n",
      " [7 'South Atlantic' 'Delaware' 708 374 965479]\n",
      " [8 'South Atlantic' 'District of Columbia' 3770 3134 701547]\n",
      " [9 'South Atlantic' 'Florida' 21443 9587 21244317]\n",
      " [10 'South Atlantic' 'Georgia' 6943 2556 10511131]\n",
      " [11 'Pacific' 'Hawaii' 4131 2399 1420593]\n",
      " [12 'Mountain' 'Idaho' 1297 715 1750536]\n",
      " [13 'East North Central' 'Illinois' 6752 3891 12723071]\n",
      " [14 'East North Central' 'Indiana' 3776 1482 6695497]\n",
      " [15 'West North Central' 'Iowa' 1711 1038 3148618]\n",
      " [16 'West North Central' 'Kansas' 1443 773 2911359]\n",
      " [17 'East South Central' 'Kentucky' 2735 953 4461153]\n",
      " [18 'West South Central' 'Louisiana' 2540 519 4659690]\n",
      " [19 'New England' 'Maine' 1450 1066 1339057]\n",
      " [20 'South Atlantic' 'Maryland' 4914 2230 6035802]\n",
      " [21 'New England' 'Massachusetts' 6811 13257 6882635]\n",
      " [22 'East North Central' 'Michigan' 5209 3142 9984072]\n",
      " [23 'West North Central' 'Minnesota' 3993 3250 5606249]\n",
      " [24 'East South Central' 'Mississippi' 1024 328 2981020]\n",
      " [25 'West North Central' 'Missouri' 3776 2107 6121623]\n",
      " [26 'Mountain' 'Montana' 983 422 1060665]\n",
      " [27 'West North Central' 'Nebraska' 1745 676 1925614]\n",
      " [28 'Mountain' 'Nevada' 7058 486 3027341]\n",
      " [29 'New England' 'New Hampshire' 835 615 1353465]\n",
      " [30 'Mid-Atlantic' 'New Jersey' 6048 3350 8886025]\n",
      " [31 'Mountain' 'New Mexico' 1949 602 2092741]\n",
      " [32 'Mid-Atlantic' 'New York' 39827 52070 19530351]\n",
      " [33 'South Atlantic' 'North Carolina' 6451 2817 10381615]]\n",
      "Index(['Unnamed: 0', 'region', 'state', 'individuals', 'family_members',\n",
      "       'state_pop'],\n",
      "      dtype='object')\n",
      "RangeIndex(start=0, stop=34, step=1)\n"
     ]
    }
   ],
   "source": [
    "## Script\n",
    "\n",
    "# Import pandas using the alias pd\n",
    "import pandas as pd\n",
    "# Print the values of homelessness\n",
    "print(homelessness.values)\n",
    "\n",
    "# Print the column index of homelessness\n",
    "print(homelessness.columns)\n",
    "\n",
    "# Print the row index of homelessness\n",
    "print(homelessness.index)\n",
    "\n"
   ]
  },
  {
   "cell_type": "markdown",
   "metadata": {},
   "source": [
    "# Sorting rows"
   ]
  },
  {
   "cell_type": "raw",
   "metadata": {},
   "source": [
    "## Sorting rows\n",
    "\n",
    "Finding interested bits of data in a DataFrame is often easier if you change the order of the rows. You can sort the rows by passing a column name to .sort_values().\n",
    "\n",
    "In cases where rows have the same value (this is common if you sort on a categorical variable), you may wish to break the ties by sorting on another column. You can sort on multiple columns in this way by passing a list of column names.\n",
    "\n",
    "| Sort on ...      | Syntax                                   |\n",
    "|------------------|------------------------------------------|\n",
    "| One column       | `df.sort_values(\"breed\")`                |\n",
    "| Multiple columns | `df.sort_values([\"breed\", \"weight_kg\"])` |\n",
    "\n",
    "By combining `.sort_values()` with `.head()`, you can answer questions in the form, \"What are the top cases where...?\".\n",
    "\n",
    "`homelessness` is available and `pandas` is loaded as `pd`.\n",
    "\n",
    "<hr>\n",
    "\n",
    "**Instructions (1/3)**\n",
    "\n",
    "* Sort `homelessness` by the number of homeless individuals, from smallest to largest, and save this as `homelessness_ind`.\n",
    "* Print the head of the sorted DataFrame.\n",
    "\n",
    "**Instructions (2/3)**\n",
    "\n",
    "* Sort `homelessness` by the number of homeless family members in descending order, and save this as `homelessness_fam`.\n",
    "* Print the head of the sorted DataFrame.\n",
    "\n",
    "**Instructions (3/3)**\n",
    "\n",
    "* Sort `homelessness` first by region (ascending), and then by number of family members (descending). Save this as `homelessness_reg_fam`.\n",
    "* Print the head of the sorted DataFrame.\n"
   ]
  },
  {
   "cell_type": "code",
   "execution_count": 5,
   "metadata": {},
   "outputs": [
    {
     "name": "stdout",
     "output_type": "stream",
     "text": [
      "    Unnamed: 0              region          state  individuals  \\\n",
      "7            7      South Atlantic       Delaware          708   \n",
      "29          29         New England  New Hampshire          835   \n",
      "26          26            Mountain        Montana          983   \n",
      "24          24  East South Central    Mississippi         1024   \n",
      "12          12            Mountain          Idaho         1297   \n",
      "\n",
      "    family_members  state_pop  \n",
      "7              374     965479  \n",
      "29             615    1353465  \n",
      "26             422    1060665  \n",
      "24             328    2981020  \n",
      "12             715    1750536  \n"
     ]
    }
   ],
   "source": [
    "# Sort homelessness by individual\n",
    "homelessness_ind = homelessness.sort_values(\"individuals\")\n",
    "\n",
    "# Print the top few rows\n",
    "print(homelessness_ind.head())\n"
   ]
  },
  {
   "cell_type": "code",
   "execution_count": 6,
   "metadata": {},
   "outputs": [
    {
     "name": "stdout",
     "output_type": "stream",
     "text": [
      "    Unnamed: 0              region          state  individuals  \\\n",
      "32          32        Mid-Atlantic       New York        39827   \n",
      "4            4             Pacific     California       109008   \n",
      "21          21         New England  Massachusetts         6811   \n",
      "9            9      South Atlantic        Florida        21443   \n",
      "13          13  East North Central       Illinois         6752   \n",
      "\n",
      "    family_members  state_pop  \n",
      "32           52070   19530351  \n",
      "4            20964   39461588  \n",
      "21           13257    6882635  \n",
      "9             9587   21244317  \n",
      "13            3891   12723071  \n"
     ]
    }
   ],
   "source": [
    "# Sort homelessness by descending family members\n",
    "homelessness_fam = homelessness.sort_values(\"family_members\", ascending=False)\n",
    "\n",
    "# Print the top few rows\n",
    "print(homelessness_fam.head())\n"
   ]
  },
  {
   "cell_type": "code",
   "execution_count": 7,
   "metadata": {},
   "outputs": [
    {
     "name": "stdout",
     "output_type": "stream",
     "text": [
      "    Unnamed: 0              region     state  individuals  family_members  \\\n",
      "13          13  East North Central  Illinois         6752            3891   \n",
      "22          22  East North Central  Michigan         5209            3142   \n",
      "14          14  East North Central   Indiana         3776            1482   \n",
      "17          17  East South Central  Kentucky         2735             953   \n",
      "0            0  East South Central   Alabama         2570             864   \n",
      "\n",
      "    state_pop  \n",
      "13   12723071  \n",
      "22    9984072  \n",
      "14    6695497  \n",
      "17    4461153  \n",
      "0     4887681  \n"
     ]
    }
   ],
   "source": [
    "# Sort homelessness by region, then descending family members\n",
    "homelessness_reg_fam = homelessness.sort_values([\"region\", \"family_members\"], ascending=[True, False])\n",
    "\n",
    "# Print the top few rows\n",
    "print(homelessness_reg_fam.head())\n"
   ]
  },
  {
   "cell_type": "markdown",
   "metadata": {},
   "source": [
    "# Subsetting columns\n"
   ]
  },
  {
   "cell_type": "raw",
   "metadata": {},
   "source": [
    "When working with data, you may not need all of the variables in your dataset. Square-brackets (`[]`) can be used to select only the columns that matter to you in an order that makes sense to you. To select only `\"col_a\"` of the DataFrame `df`, use\n",
    "\n",
    "```\n",
    "df[\"col_a\"]\n",
    "```\n",
    "\n",
    "To select `\"col_a\"` and `\"col_b\"` of `df`, use\n",
    "\n",
    "```\n",
    "df[[\"col_a\", \"col_b\"]]\n",
    "```\n",
    "\n",
    "`homelessness` is available and `pandas` is loaded as `pd`.\n",
    "\n",
    "<hr>\n",
    "\n",
    "**Instructions 1/3**\n",
    "\n",
    "* Create a DataFrame called `individuals` that contains only the `individuals` column of `homelessness`.\n",
    "* Print the head of the result.\n",
    "\n",
    "**Instructions 2/3**\n",
    "\n",
    "* Create a DataFrame called `state_fam` that contains only the `state` and `family_members` columns of `homelessness`, in that order.\n",
    "* Print the head of the result.\n",
    "\n",
    "**Instructions 3/3**\n",
    "\n",
    "* Create a DataFrame called `ind_state` that contains the `individuals` and `state` columns of `homelessness`, in that order.\n",
    "* Print the head of the result.\n"
   ]
  },
  {
   "cell_type": "code",
   "execution_count": 13,
   "metadata": {},
   "outputs": [
    {
     "name": "stdout",
     "output_type": "stream",
     "text": [
      "0      2570\n",
      "1      1434\n",
      "2      7259\n",
      "3      2280\n",
      "4    109008\n",
      "Name: individuals, dtype: int64\n"
     ]
    }
   ],
   "source": [
    "# Select the individuals column\n",
    "individuals = homelessness[\"individuals\"]\n",
    "\n",
    "# Print the head of the result\n",
    "print(individuals.head())\n"
   ]
  },
  {
   "cell_type": "code",
   "execution_count": 14,
   "metadata": {},
   "outputs": [
    {
     "name": "stdout",
     "output_type": "stream",
     "text": [
      "        state  family_members\n",
      "0     Alabama             864\n",
      "1      Alaska             582\n",
      "2     Arizona            2606\n",
      "3    Arkansas             432\n",
      "4  California           20964\n"
     ]
    }
   ],
   "source": [
    "# Select the state and family_members columns\n",
    "state_fam = homelessness[[\"state\", \"family_members\"]]\n",
    "\n",
    "# Print the head of the result\n",
    "print(state_fam.head())\n"
   ]
  },
  {
   "cell_type": "code",
   "execution_count": 15,
   "metadata": {},
   "outputs": [
    {
     "name": "stdout",
     "output_type": "stream",
     "text": [
      "   individuals       state\n",
      "0         2570     Alabama\n",
      "1         1434      Alaska\n",
      "2         7259     Arizona\n",
      "3         2280    Arkansas\n",
      "4       109008  California\n"
     ]
    }
   ],
   "source": [
    "# Select only the individuals and state columns, in that order\n",
    "ind_state = homelessness[[\"individuals\", \"state\"]]\n",
    "\n",
    "# Print the head of the result\n",
    "print(ind_state.head())\n"
   ]
  },
  {
   "cell_type": "markdown",
   "metadata": {},
   "source": [
    "# Subsetting rows\n"
   ]
  },
  {
   "cell_type": "raw",
   "metadata": {},
   "source": [
    "A large part of data science is about finding which bits of your dataset are interesting. One of the simplest techniques for this is to find a subset of rows that match some criteria. This is sometimes known as *filtering rows* or *selecting rows*.\n",
    "\n",
    "There are many ways to subset a DataFrame, perhaps the most common is to use relational operators to return `True` or `False` for each row, then pass that inside square **brackets**.\n",
    "\n",
    "```\n",
    "dogs[dogs[\"height_cm\"] > 60]\n",
    "dogs[dogs[\"color\"] == \"tan\"]\n",
    "```\n",
    "\n",
    "You can filter for multiple conditions at once by using the \"logical and\" operator, `&`.\n",
    "\n",
    "```\n",
    "dogs[(dogs[\"height_cm\"] > 60) & (dogs[\"col_b\"] == \"tan\")]\n",
    "```\n",
    "\n",
    "`homelessness` is available and `pandas` is loaded as `pd`.\n",
    "\n",
    "<hr>\n",
    "\n",
    "**Instructions 1/3**\n",
    "\n",
    "Filter `homelessness` for cases where the number of individuals is greater than ten thousand, assigning to `ind_gt_10k`. *View the printed result*.\n",
    "\n",
    "**Instructions 2/3**\n",
    "\n",
    "Filter `homelessness` for cases where the USA Census region is `\"Mountain\"`, assigning to `mountain_reg`. *View the printed result*.\n",
    "\n",
    "**Instructions 3/3**\n",
    "\n",
    "Filter `homelessness` for cases where the number of family members is less than one thousand and the region is `\"Pacific\"`, assigning to `fam_lt_1k_pac`. *View the printed result*.\n"
   ]
  },
  {
   "cell_type": "code",
   "execution_count": 17,
   "metadata": {},
   "outputs": [
    {
     "name": "stdout",
     "output_type": "stream",
     "text": [
      "    Unnamed: 0          region       state  individuals  family_members  \\\n",
      "4            4         Pacific  California       109008           20964   \n",
      "9            9  South Atlantic     Florida        21443            9587   \n",
      "32          32    Mid-Atlantic    New York        39827           52070   \n",
      "\n",
      "    state_pop  \n",
      "4    39461588  \n",
      "9    21244317  \n",
      "32   19530351  \n"
     ]
    }
   ],
   "source": [
    "# Filter for rows where individuals is greater than 10000\n",
    "ind_gt_10k = homelessness[(homelessness[\"individuals\"]) > 10000]\n",
    "# See the result\n",
    "print(ind_gt_10k)\n"
   ]
  },
  {
   "cell_type": "code",
   "execution_count": 18,
   "metadata": {},
   "outputs": [
    {
     "name": "stdout",
     "output_type": "stream",
     "text": [
      "    Unnamed: 0          region       state  individuals  family_members  \\\n",
      "4            4         Pacific  California       109008           20964   \n",
      "9            9  South Atlantic     Florida        21443            9587   \n",
      "32          32    Mid-Atlantic    New York        39827           52070   \n",
      "\n",
      "    state_pop  \n",
      "4    39461588  \n",
      "9    21244317  \n",
      "32   19530351  \n"
     ]
    }
   ],
   "source": [
    "# Filter for rows where individuals is greater than 10000\n",
    "ind_gt_10k = homelessness[(homelessness[\"individuals\"]) > 10000]\n",
    "# See the result\n",
    "print(ind_gt_10k)\n"
   ]
  },
  {
   "cell_type": "code",
   "execution_count": 19,
   "metadata": {},
   "outputs": [
    {
     "name": "stdout",
     "output_type": "stream",
     "text": [
      "   Unnamed: 0   region   state  individuals  family_members  state_pop\n",
      "1           1  Pacific  Alaska         1434             582     735139\n"
     ]
    }
   ],
   "source": [
    "# Filter for rows where family_members is less than 1000\n",
    "# and region is Pacific\n",
    "fam_lt_1k_pac = homelessness[(homelessness[\"family_members\"] < 1000) &(homelessness[\"region\"] == \"Pacific\")]\n",
    "# See the result\n",
    "print(fam_lt_1k_pac)\n"
   ]
  },
  {
   "cell_type": "markdown",
   "metadata": {},
   "source": [
    "# Subsetting rows by categorical variables\n"
   ]
  },
  {
   "cell_type": "raw",
   "metadata": {},
   "source": [
    "Subsetting data based on a categorical variable often involves using the \"or\" operator (`|`) to select rows from multiple categories. This can get tedious when you want all states in one of three different regions, for example. Instead, use the `.isin()` method, which will allow you to tackle this problem by writing one condition instead of three separate ones.\n",
    "\n",
    "```\n",
    "colors = [\"brown\", \"black\", \"tan\"]\n",
    "condition = dogs[\"color\"].isin(colors)\n",
    "dogs[condition]\n",
    "```\n",
    "\n",
    "`homelessness` is available and `pandas` is loaded as `pd`.\n",
    "\n",
    "<hr>\n",
    "\n",
    "**Instructions 1/2**\n",
    "\n",
    "Filter `homelessness` for cases where the USA census region is \"South Atlantic\" or it is \"Mid-Atlantic\", assigning to `south_mid_atlantic`. *View the printed result*.\n",
    "\n",
    "**Instructions 2/2**\n",
    "\n",
    "Filter homelessness for cases where the USA census state is in the list of Mojave states, canu, assigning to mojave_homelessness. View the printed result.\n"
   ]
  },
  {
   "cell_type": "code",
   "execution_count": 22,
   "metadata": {},
   "outputs": [
    {
     "name": "stdout",
     "output_type": "stream",
     "text": [
      "    Unnamed: 0          region                 state  individuals  \\\n",
      "7            7  South Atlantic              Delaware          708   \n",
      "8            8  South Atlantic  District of Columbia         3770   \n",
      "9            9  South Atlantic               Florida        21443   \n",
      "10          10  South Atlantic               Georgia         6943   \n",
      "20          20  South Atlantic              Maryland         4914   \n",
      "30          30    Mid-Atlantic            New Jersey         6048   \n",
      "32          32    Mid-Atlantic              New York        39827   \n",
      "33          33  South Atlantic        North Carolina         6451   \n",
      "\n",
      "    family_members  state_pop  \n",
      "7              374     965479  \n",
      "8             3134     701547  \n",
      "9             9587   21244317  \n",
      "10            2556   10511131  \n",
      "20            2230    6035802  \n",
      "30            3350    8886025  \n",
      "32           52070   19530351  \n",
      "33            2817   10381615  \n"
     ]
    }
   ],
   "source": [
    "# Subset for rows in South Atlantic or Mid-Atlantic regions\n",
    "regions = [\"South Atlantic\", \"Mid-Atlantic\"]\n",
    "south_mid_atlantic = homelessness[(homelessness[\"region\"].isin(regions))]\n",
    "\n",
    "# See the result\n",
    "print(south_mid_atlantic)\n"
   ]
  },
  {
   "cell_type": "code",
   "execution_count": 25,
   "metadata": {},
   "outputs": [],
   "source": [
    "# # Subset for rows in South Atlantic or Mid-Atlantic regions\n",
    "# regions = [\"South Atlantic\", \"Mid-Atlantic\"]\n",
    "# condition = (homelessness[\"region\"].isin(regions))\n",
    "# south_mid_atlantic = homelessness[condition]\n",
    "\n",
    "# # See the result\n",
    "# print(south_mid_atlantic)"
   ]
  },
  {
   "cell_type": "code",
   "execution_count": 27,
   "metadata": {},
   "outputs": [
    {
     "name": "stdout",
     "output_type": "stream",
     "text": [
      "    Unnamed: 0    region       state  individuals  family_members  state_pop\n",
      "2            2  Mountain     Arizona         7259            2606    7158024\n",
      "4            4   Pacific  California       109008           20964   39461588\n",
      "28          28  Mountain      Nevada         7058             486    3027341\n"
     ]
    }
   ],
   "source": [
    "# The Mojave Desert states\n",
    "canu = [\"California\", \"Arizona\", \"Nevada\", \"Utah\"]\n",
    "\n",
    "# Filter for rows in the Mojave Desert states\n",
    "mojave_homelessness = homelessness[(homelessness[\"state\"].isin(canu))]\n",
    "# See the result\n",
    "print(mojave_homelessness)\n"
   ]
  },
  {
   "cell_type": "markdown",
   "metadata": {},
   "source": [
    "# Adding new columns\n"
   ]
  },
  {
   "cell_type": "raw",
   "metadata": {},
   "source": [
    "You aren't stuck with just the data you are given. Instead, you can add new columns to a DataFrame. This has many names, such as *transforming*, *mutating*, and *feature engineering*.\n",
    "\n",
    "You can create new columns from scratch, but it is also common to derive them from other columns, for example, by adding columns together, or by changing their units.\n",
    "\n",
    "`homelessness` is available and `pandas` is loaded as `pd`.\n",
    "\n",
    "<hr>\n",
    "\n",
    "**Instructions**\n",
    "\n",
    "* Add a new column to `homelessness`, named total, containing the sum of the `individuals` and `family_members` columns.\n",
    "* Add another column to `homelessness`, named `p_individuals`, containing the proportion of homeless people in each state who are individuals.\n",
    "\n"
   ]
  },
  {
   "cell_type": "code",
   "execution_count": 29,
   "metadata": {},
   "outputs": [
    {
     "name": "stdout",
     "output_type": "stream",
     "text": [
      "   Unnamed: 0              region       state  individuals  family_members  \\\n",
      "0           0  East South Central     Alabama         2570             864   \n",
      "1           1             Pacific      Alaska         1434             582   \n",
      "2           2            Mountain     Arizona         7259            2606   \n",
      "3           3  West South Central    Arkansas         2280             432   \n",
      "4           4             Pacific  California       109008           20964   \n",
      "\n",
      "   state_pop   total  p_individuals  \n",
      "0    4887681    3434       0.748398  \n",
      "1     735139    2016       0.711310  \n",
      "2    7158024    9865       0.735834  \n",
      "3    3009733    2712       0.840708  \n",
      "4   39461588  129972       0.838704  \n"
     ]
    }
   ],
   "source": [
    "# Add total col as sum of individuals and family_members\n",
    "homelessness[\"total\"] = homelessness[\"individuals\"] + homelessness[\"family_members\"]\n",
    "\n",
    "# Add p_individuals col as proportion of individuals\n",
    "homelessness[\"p_individuals\"] = homelessness[\"individuals\"] /  homelessness[\"total\"]\n",
    "\n",
    "# See the result\n",
    "print(homelessness.head())\n"
   ]
  },
  {
   "cell_type": "markdown",
   "metadata": {},
   "source": [
    "# Combo-attack!\n"
   ]
  },
  {
   "cell_type": "raw",
   "metadata": {},
   "source": [
    "\n",
    "You've seen the four most common types of data manipulation: sorting rows, subsetting columns, subsetting rows, and adding new columns. In a real-life data analysis, you can mix and match these four manipulations to answer a multitude of questions.\n",
    "\n",
    "In this exercise, you'll answer the question, \"Which state has the highest number of homeless individuals per 10,000 people in the state?\" Combine your new `pandas` skills to find out.\n",
    "\n",
    "<hr>\n",
    "\n",
    "**Instructions**\n",
    "* Add a column to `homelessness`, `indiv_per_10k`, containing the number of homeless individuals per ten thousand people in each state.\n",
    "* Subset rows where `indiv_per_10k` is higher than 20, assigning to high_homelessness.\n",
    "* Sort `high_homelessness` by descending `indiv_per_10k`, assigning to `high_homelessness_srt`.\n",
    "* Select only the state and `indiv_per_10k` columns of `high_homelessness_srt` and save as result. *Look at the `result`*.\n"
   ]
  },
  {
   "cell_type": "code",
   "execution_count": 30,
   "metadata": {},
   "outputs": [
    {
     "name": "stdout",
     "output_type": "stream",
     "text": [
      "                   state  indiv_per_10k\n",
      "8   District of Columbia      53.738381\n",
      "11                Hawaii      29.079406\n",
      "4             California      27.623825\n",
      "28                Nevada      23.314189\n",
      "32              New York      20.392363\n"
     ]
    }
   ],
   "source": [
    "# Create indiv_per_10k col as homeless individuals per 10k state pop\n",
    "homelessness[\"indiv_per_10k\"] = 10000 * homelessness[\"individuals\"] / homelessness[\"state_pop\"]\n",
    "\n",
    "# Subset rows for indiv_per_10k greater than 20\n",
    "high_homelessness = homelessness[homelessness[\"indiv_per_10k\"] > 20]\n",
    "\n",
    "# Sort high_homelessness by descending indiv_per_10k\n",
    "high_homelessness_srt = high_homelessness.sort_values(\"indiv_per_10k\", ascending=False)\n",
    "\n",
    "# From high_homelessness_srt, select the state and indiv_per_10k cols\n",
    "result = high_homelessness_srt[[\"state\", \"indiv_per_10k\"]]\n",
    "\n",
    "# See the result\n",
    "print(result)\n"
   ]
  },
  {
   "cell_type": "code",
   "execution_count": null,
   "metadata": {},
   "outputs": [],
   "source": []
  }
 ],
 "metadata": {
  "kernelspec": {
   "display_name": "Python 3",
   "language": "python",
   "name": "python3"
  },
  "language_info": {
   "codemirror_mode": {
    "name": "ipython",
    "version": 3
   },
   "file_extension": ".py",
   "mimetype": "text/x-python",
   "name": "python",
   "nbconvert_exporter": "python",
   "pygments_lexer": "ipython3",
   "version": "3.7.1"
  }
 },
 "nbformat": 4,
 "nbformat_minor": 2
}
