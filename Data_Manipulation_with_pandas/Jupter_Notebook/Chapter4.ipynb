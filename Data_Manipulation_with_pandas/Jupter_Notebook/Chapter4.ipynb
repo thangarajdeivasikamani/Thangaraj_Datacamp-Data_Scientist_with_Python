{
 "cells": [
  {
   "cell_type": "code",
   "execution_count": 37,
   "metadata": {},
   "outputs": [
    {
     "data": {
      "text/html": [
       "<div>\n",
       "<style scoped>\n",
       "    .dataframe tbody tr th:only-of-type {\n",
       "        vertical-align: middle;\n",
       "    }\n",
       "\n",
       "    .dataframe tbody tr th {\n",
       "        vertical-align: top;\n",
       "    }\n",
       "\n",
       "    .dataframe thead th {\n",
       "        text-align: right;\n",
       "    }\n",
       "</style>\n",
       "<table border=\"1\" class=\"dataframe\">\n",
       "  <thead>\n",
       "    <tr style=\"text-align: right;\">\n",
       "      <th></th>\n",
       "      <th>date</th>\n",
       "      <th>type</th>\n",
       "      <th>year</th>\n",
       "      <th>avg_price</th>\n",
       "      <th>size</th>\n",
       "      <th>nb_sold</th>\n",
       "    </tr>\n",
       "  </thead>\n",
       "  <tbody>\n",
       "    <tr>\n",
       "      <th>0</th>\n",
       "      <td>12/27/2015</td>\n",
       "      <td>conventional</td>\n",
       "      <td>2015</td>\n",
       "      <td>0.95</td>\n",
       "      <td>small</td>\n",
       "      <td>9630000.0</td>\n",
       "    </tr>\n",
       "    <tr>\n",
       "      <th>1</th>\n",
       "      <td>12/20/2015</td>\n",
       "      <td>conventional</td>\n",
       "      <td>2015</td>\n",
       "      <td>0.98</td>\n",
       "      <td>small</td>\n",
       "      <td>8710000.0</td>\n",
       "    </tr>\n",
       "    <tr>\n",
       "      <th>2</th>\n",
       "      <td>12/13/2015</td>\n",
       "      <td>conventional</td>\n",
       "      <td>2015</td>\n",
       "      <td>0.93</td>\n",
       "      <td>small</td>\n",
       "      <td>9860000.0</td>\n",
       "    </tr>\n",
       "    <tr>\n",
       "      <th>3</th>\n",
       "      <td>12/6/2015</td>\n",
       "      <td>conventional</td>\n",
       "      <td>2015</td>\n",
       "      <td>0.89</td>\n",
       "      <td>small</td>\n",
       "      <td>9410000.0</td>\n",
       "    </tr>\n",
       "    <tr>\n",
       "      <th>4</th>\n",
       "      <td>11/29/2015</td>\n",
       "      <td>conventional</td>\n",
       "      <td>2015</td>\n",
       "      <td>0.99</td>\n",
       "      <td>small</td>\n",
       "      <td>8100000.0</td>\n",
       "    </tr>\n",
       "  </tbody>\n",
       "</table>\n",
       "</div>"
      ],
      "text/plain": [
       "         date          type  year  avg_price   size    nb_sold\n",
       "0  12/27/2015  conventional  2015       0.95  small  9630000.0\n",
       "1  12/20/2015  conventional  2015       0.98  small  8710000.0\n",
       "2  12/13/2015  conventional  2015       0.93  small  9860000.0\n",
       "3   12/6/2015  conventional  2015       0.89  small  9410000.0\n",
       "4  11/29/2015  conventional  2015       0.99  small  8100000.0"
      ]
     },
     "execution_count": 37,
     "metadata": {},
     "output_type": "execute_result"
    }
   ],
   "source": [
    "import pandas as pd\n",
    "visuval_file= r'C:\\Machinelearning\\datacamp\\Thangaraj_Datacamp-Data_Scientist_with_Python\\Data_Manipulation_with_pandas\\Datasets\\visuvalize.csv'\n",
    "avocados = pd.read_csv(visuval_file,index_col=0)\n",
    "avocados.head()"
   ]
  },
  {
   "cell_type": "raw",
   "metadata": {},
   "source": [
    "# Which avocado size is most popular?\n",
    "\n",
    "Avocados are increasingly popular and delicious in guacamole and on toast. The Hass Avocado Board keeps track of avocado supply and demand across the USA, including the sales of three different sizes of avocado. In this exercise, you'll use a bar plot to figure out which size is the most popular.\n",
    "\n",
    "Bar plots are great for revealing relationships between categorical (size) and numeric (number sold) variables, but you'll often have to manipulate your data first in order to get the numbers you need for plotting.\n",
    "\n",
    "`pandas` has been imported as `pd`, and `avocados` is available.\n",
    "\n",
    "<hr>\n",
    "\n",
    "**Instructions**\n",
    "\n",
    "* Print the head of the `avocados` dataset. What columns are available?\n",
    "* For each avocado size group, calculate the total number sold, storing as `nb_sold_by_size`.\n",
    "* Create a bar plot of the number of avocados sold by size.\n",
    "* Show the plot.\n",
    "\n"
   ]
  },
  {
   "cell_type": "code",
   "execution_count": 38,
   "metadata": {},
   "outputs": [
    {
     "name": "stdout",
     "output_type": "stream",
     "text": [
      "         date          type  year  avg_price   size    nb_sold\n",
      "0  12/27/2015  conventional  2015       0.95  small  9630000.0\n",
      "1  12/20/2015  conventional  2015       0.98  small  8710000.0\n",
      "2  12/13/2015  conventional  2015       0.93  small  9860000.0\n",
      "3   12/6/2015  conventional  2015       0.89  small  9410000.0\n",
      "4  11/29/2015  conventional  2015       0.99  small  8100000.0\n"
     ]
    },
    {
     "data": {
      "image/png": "[encoded data removed]",
      "text/plain": [
       "<Figure size 432x288 with 1 Axes>"
      ]
     },
     "metadata": {
      "needs_background": "light"
     },
     "output_type": "display_data"
    }
   ],
   "source": [
    "# Import matplotlib.pyplot with alias plt\n",
    "import matplotlib.pyplot as plt\n",
    "\n",
    "# Look at the first few rows of data\n",
    "print(avocados.head())\n",
    "\n",
    "# Get the total number of avocados sold of each size\n",
    "nb_sold_by_size = avocados.groupby('size')['nb_sold'].sum()\n",
    "\n",
    "# Create a bar plot of the number of avocados sold by size\n",
    "nb_sold_by_size.plot(kind='bar')\n",
    "\n",
    "# Show the plot\n",
    "plt.show()"
   ]
  },
  {
   "cell_type": "raw",
   "metadata": {},
   "source": [
    "## Changes in sales over time\n",
    "\n",
    "Line plots are designed to visualize the relationship between two numeric variables, where each data values is connected to the next one. They are especially useful for visualizing change in a number over time, since each time point is naturally connected to the next time point. In this exercise, you'll visualize the change in avocado sales over three years.\n",
    "\n",
    "`pandas` has been imported as `pd`.\n",
    "\n",
    "<hr>\n",
    "\n",
    "**Instructions**\n",
    "\n",
    "* Get the total number of avocados sold on each date. *The DataFrame has two rows for each date -- one for organic, and one for conventional*. Save this as `nb_sold_by_date`.\n",
    "* Create a line plot of the number of avocados sold.\n",
    "* Show the plot.\n"
   ]
  },
  {
   "cell_type": "code",
   "execution_count": 39,
   "metadata": {},
   "outputs": [
    {
     "name": "stdout",
     "output_type": "stream",
     "text": [
      "         date          type  year  avg_price   size    nb_sold\n",
      "0  12/27/2015  conventional  2015       0.95  small  9630000.0\n",
      "1  12/20/2015  conventional  2015       0.98  small  8710000.0\n",
      "2  12/13/2015  conventional  2015       0.93  small  9860000.0\n",
      "3   12/6/2015  conventional  2015       0.89  small  9410000.0\n",
      "4  11/29/2015  conventional  2015       0.99  small  8100000.0\n"
     ]
    },
    {
     "data": {
      "image/png": "[encoded data removed]",
      "text/plain": [
       "<Figure size 432x288 with 1 Axes>"
      ]
     },
     "metadata": {
      "needs_background": "light"
     },
     "output_type": "display_data"
    }
   ],
   "source": [
    "\n",
    "## Script\n",
    "\n",
    "# Import matplotlib.pyplot with alias plt\n",
    "import matplotlib.pyplot as plt\n",
    "\n",
    "print(avocados.head())\n",
    "# Get the total number of avocados sold on each date\n",
    "nb_sold_by_date = avocados.groupby('date')['nb_sold'].sum()\n",
    "\n",
    "# Create a line plot of the number of avocados sold by date\n",
    "nb_sold_by_date.plot(kind='line')\n",
    "\n",
    "# Show the plot\n",
    "plt.show()\n"
   ]
  },
  {
   "cell_type": "raw",
   "metadata": {},
   "source": [
    "## Avocado supply and demand\n",
    "\n",
    "Scatter plots are ideal for visualizing relationships between numerical variables. In this exercise, you'll compare the number of avocados sold to average price and see if they're at all related. If they're related, you may be able to use one number to predict the other.\n",
    "\n",
    "`matplotlib.pyplot` has been imported as `plt` and `pandas` has been imported as `pd`.\n",
    "\n",
    "<hr>\n",
    "\n",
    "**Instructions**\n",
    "\n",
    "* Create a scatter plot with `nb_sold` on the x-axis and `avg_price` on the y-axis. Title it `\"Number of avocados sold vs. average price\"`.\n",
    "* Show the plot."
   ]
  },
  {
   "cell_type": "code",
   "execution_count": 40,
   "metadata": {},
   "outputs": [
    {
     "data": {
      "image/png": "[encoded data removed]",
      "text/plain": [
       "<Figure size 432x288 with 1 Axes>"
      ]
     },
     "metadata": {
      "needs_background": "light"
     },
     "output_type": "display_data"
    }
   ],
   "source": [
    "\n",
    "\n",
    "## Script\n",
    "\n",
    "# Scatter plot of nb_sold vs avg_price with title\n",
    "avocados.plot(kind='scatter', x='nb_sold', y='avg_price', title='Number of avocados sold vs. average price')\n",
    "\n",
    "# Show the plot\n",
    "plt.show()\n",
    "\n"
   ]
  },
  {
   "cell_type": "raw",
   "metadata": {},
   "source": [
    "## Price of conventional vs. organic avocados\n",
    "\n",
    "Creating multiple plots for different subsets of data allows you to compare groups. In this exercise, you'll create multiple histograms to compare the prices of conventional and organic avocados.\n",
    "\n",
    "`matplotlib.pyplot` has been imported as `plt` and `pandas` has been imported as `pd`.\n",
    "\n",
    "<hr>\n",
    "\n",
    "**Instructions 1/3**\n",
    "* Subset `avocados` for the conventional type, and the average price column. Create a histogram.\n",
    "* Create a histogram of `avg_price` for organic type avocados.\n",
    "* Add a legend to your plot, with names \"conventional\" and \"organic\".\n",
    "* Show your plot.\n",
    "\n",
    "**Instructions 2/3**\n",
    "* Modify your code to adjust the transparency of both histograms to `0.5` to see how much overlap there is between the two distributions.\n",
    "\n",
    "**Instructions 3/3**\n",
    "* Modify your code to use 20 bins in both histograms."
   ]
  },
  {
   "cell_type": "code",
   "execution_count": 41,
   "metadata": {},
   "outputs": [
    {
     "data": {
      "image/png": "[encoded data removed]",
      "text/plain": [
       "<Figure size 432x288 with 1 Axes>"
      ]
     },
     "metadata": {
      "needs_background": "light"
     },
     "output_type": "display_data"
    }
   ],
   "source": [
    "# Modify histogram transparency to 0.5 \n",
    "avocados[avocados[\"type\"] == \"conventional\"][\"avg_price\"].hist()\n",
    "\n",
    "# Modify histogram transparency to 0.5\n",
    "avocados[avocados[\"type\"] == \"organic\"][\"avg_price\"].hist()\n",
    "\n",
    "# Add a legend\n",
    "plt.legend([\"conventional\", \"organic\"])\n",
    "\n",
    "# Show the plot\n",
    "plt.show()"
   ]
  },
  {
   "cell_type": "code",
   "execution_count": 42,
   "metadata": {},
   "outputs": [
    {
     "data": {
      "image/png": "[encoded data removed]",
      "text/plain": [
       "<Figure size 432x288 with 1 Axes>"
      ]
     },
     "metadata": {
      "needs_background": "light"
     },
     "output_type": "display_data"
    }
   ],
   "source": [
    "# Modify bins to 20\n",
    "avocados[avocados[\"type\"] == \"conventional\"][\"avg_price\"].hist(alpha=0.5)\n",
    "\n",
    "# Modify bins to 20\n",
    "avocados[avocados[\"type\"] == \"organic\"][\"avg_price\"].hist(alpha=0.5)\n",
    "\n",
    "# Add a legend\n",
    "plt.legend([\"conventional\", \"organic\"])\n",
    "\n",
    "# Show the plot\n",
    "plt.show()"
   ]
  },
  {
   "cell_type": "code",
   "execution_count": 43,
   "metadata": {},
   "outputs": [
    {
     "data": {
      "image/png": "[encoded data removed]",
      "text/plain": [
       "<Figure size 432x288 with 1 Axes>"
      ]
     },
     "metadata": {
      "needs_background": "light"
     },
     "output_type": "display_data"
    }
   ],
   "source": [
    "# Modify bins to 20\n",
    "avocados[avocados[\"type\"] == \"conventional\"][\"avg_price\"].hist(bins=20, alpha=0.5)\n",
    "\n",
    "# Modify bins to 20\n",
    "avocados[avocados[\"type\"] == \"organic\"][\"avg_price\"].hist(bins=20,alpha=0.5)\n",
    "\n",
    "# Add a legend\n",
    "plt.legend([\"conventional\", \"organic\"])\n",
    "\n",
    "# Show the plot\n",
    "plt.show()"
   ]
  },
  {
   "cell_type": "raw",
   "metadata": {},
   "source": [
    "## Finding missing values\n",
    "\n",
    "Missing values are everywhere, and you don't want them interfering with your work. Some functions ignore missing data by default, but that's not always the behavior you might want. Some functions can't handle missing values at all, so these values need to be taken care of before you can use them. If you don't know where your missing values are, or if they exist, you could make mistakes in your analysis. In this exercise, you'll determine if there are missing values in the dataset, and if so, how many.\n",
    "\n",
    "`pandas` has been imported as `pd` and avocados_2016, a subset of `avocados` that contains only sales from 2016, is available.\n",
    "\n",
    "<hr>\n",
    "\n",
    "**Instructions**\n",
    "* Print a DataFrame that shows whether each value in `avocados_2016` is missing or not.\n",
    "* Print a summary that shows whether any value in each column is missing or not.\n",
    "* Create a bar plot of the total number of missing values in each column."
   ]
  },
  {
   "cell_type": "code",
   "execution_count": 44,
   "metadata": {},
   "outputs": [
    {
     "data": {
      "text/html": [
       "<div>\n",
       "<style scoped>\n",
       "    .dataframe tbody tr th:only-of-type {\n",
       "        vertical-align: middle;\n",
       "    }\n",
       "\n",
       "    .dataframe tbody tr th {\n",
       "        vertical-align: top;\n",
       "    }\n",
       "\n",
       "    .dataframe thead th {\n",
       "        text-align: right;\n",
       "    }\n",
       "</style>\n",
       "<table border=\"1\" class=\"dataframe\">\n",
       "  <thead>\n",
       "    <tr style=\"text-align: right;\">\n",
       "      <th></th>\n",
       "      <th>date</th>\n",
       "      <th>type</th>\n",
       "      <th>year</th>\n",
       "      <th>avg_price</th>\n",
       "      <th>size</th>\n",
       "      <th>nb_sold</th>\n",
       "    </tr>\n",
       "  </thead>\n",
       "  <tbody>\n",
       "    <tr>\n",
       "      <th>0</th>\n",
       "      <td>12/27/2015</td>\n",
       "      <td>conventional</td>\n",
       "      <td>2015.0</td>\n",
       "      <td>0.95</td>\n",
       "      <td>small</td>\n",
       "      <td>9630000.0</td>\n",
       "    </tr>\n",
       "    <tr>\n",
       "      <th>1</th>\n",
       "      <td>12/20/2015</td>\n",
       "      <td>conventional</td>\n",
       "      <td>2015.0</td>\n",
       "      <td>0.98</td>\n",
       "      <td>small</td>\n",
       "      <td>8710000.0</td>\n",
       "    </tr>\n",
       "    <tr>\n",
       "      <th>2</th>\n",
       "      <td>12/13/2015</td>\n",
       "      <td>conventional</td>\n",
       "      <td>2015.0</td>\n",
       "      <td>0.93</td>\n",
       "      <td>small</td>\n",
       "      <td>9860000.0</td>\n",
       "    </tr>\n",
       "    <tr>\n",
       "      <th>3</th>\n",
       "      <td>12/6/2015</td>\n",
       "      <td>conventional</td>\n",
       "      <td>2015.0</td>\n",
       "      <td>0.89</td>\n",
       "      <td>small</td>\n",
       "      <td>9410000.0</td>\n",
       "    </tr>\n",
       "    <tr>\n",
       "      <th>4</th>\n",
       "      <td>11/29/2015</td>\n",
       "      <td>conventional</td>\n",
       "      <td>2015.0</td>\n",
       "      <td>0.99</td>\n",
       "      <td>small</td>\n",
       "      <td>8100000.0</td>\n",
       "    </tr>\n",
       "  </tbody>\n",
       "</table>\n",
       "</div>"
      ],
      "text/plain": [
       "         date          type    year  avg_price   size    nb_sold\n",
       "0  12/27/2015  conventional  2015.0       0.95  small  9630000.0\n",
       "1  12/20/2015  conventional  2015.0       0.98  small  8710000.0\n",
       "2  12/13/2015  conventional  2015.0       0.93  small  9860000.0\n",
       "3   12/6/2015  conventional  2015.0       0.89  small  9410000.0\n",
       "4  11/29/2015  conventional  2015.0       0.99  small  8100000.0"
      ]
     },
     "execution_count": 44,
     "metadata": {},
     "output_type": "execute_result"
    }
   ],
   "source": [
    "import pandas as pd\n",
    "visuval_file= r'C:\\Machinelearning\\datacamp\\Thangaraj_Datacamp-Data_Scientist_with_Python\\Data_Manipulation_with_pandas\\Datasets\\visuvalize_2016.csv'\n",
    "avocados_2016 = pd.read_csv(visuval_file,index_col=0)\n",
    "avocados_2016.head()"
   ]
  },
  {
   "cell_type": "code",
   "execution_count": 45,
   "metadata": {},
   "outputs": [
    {
     "name": "stdout",
     "output_type": "stream",
     "text": [
      "     date   type   year  avg_price   size  nb_sold\n",
      "0   False  False  False      False  False    False\n",
      "1   False  False  False      False  False    False\n",
      "2   False  False  False      False  False    False\n",
      "3   False  False  False      False  False    False\n",
      "4   False  False  False      False  False    False\n",
      "5   False  False  False      False  False    False\n",
      "6   False  False  False      False   True    False\n",
      "7   False  False  False      False   True    False\n",
      "8   False  False   True      False   True    False\n",
      "9   False  False  False      False   True    False\n",
      "10  False  False  False      False   True    False\n",
      "11  False  False  False      False  False    False\n",
      "12  False  False  False      False  False    False\n",
      "13  False  False  False      False  False    False\n",
      "14  False  False  False      False  False    False\n",
      "15  False  False  False      False  False    False\n",
      "16  False  False  False       True  False    False\n",
      "17  False  False  False      False  False    False\n",
      "18  False  False  False      False  False    False\n",
      "19  False  False  False      False   True    False\n",
      "20  False  False  False      False  False    False\n",
      "21  False  False  False      False  False    False\n",
      "22  False  False   True      False  False    False\n",
      "23  False  False  False      False  False    False\n",
      "24  False  False  False      False  False    False\n",
      "25  False  False  False      False  False    False\n",
      "26  False  False  False      False  False    False\n",
      "27  False  False  False      False  False    False\n",
      "28  False  False  False      False   True    False\n",
      "29  False  False  False      False  False    False\n",
      "..    ...    ...    ...        ...    ...      ...\n",
      "65  False  False  False       True  False    False\n",
      "66  False  False  False      False  False    False\n",
      "67  False  False  False      False  False    False\n",
      "68  False  False  False      False  False    False\n",
      "69  False  False  False      False  False    False\n",
      "70  False  False  False      False  False    False\n",
      "71  False  False  False      False  False    False\n",
      "72  False  False  False      False  False    False\n",
      "73  False  False  False      False  False    False\n",
      "74  False  False  False      False  False    False\n",
      "75  False  False  False      False  False    False\n",
      "76  False  False  False      False  False    False\n",
      "77  False  False  False      False  False    False\n",
      "78  False  False  False       True  False    False\n",
      "79  False  False  False      False  False    False\n",
      "80  False  False  False      False  False    False\n",
      "81  False  False   True      False  False    False\n",
      "82  False  False   True      False  False    False\n",
      "83  False  False   True      False  False    False\n",
      "84  False  False  False      False  False    False\n",
      "85  False  False  False      False  False    False\n",
      "86  False  False  False      False  False    False\n",
      "87  False  False  False      False  False    False\n",
      "88  False  False  False      False  False    False\n",
      "89  False  False  False      False  False    False\n",
      "90  False  False  False      False  False    False\n",
      "91  False  False  False      False  False    False\n",
      "92  False  False  False      False  False    False\n",
      "93  False  False  False      False  False    False\n",
      "94  False  False  False      False  False    False\n",
      "\n",
      "[95 rows x 6 columns]\n",
      "date         False\n",
      "type         False\n",
      "year          True\n",
      "avg_price     True\n",
      "size          True\n",
      "nb_sold      False\n",
      "dtype: bool\n"
     ]
    },
    {
     "data": {
      "image/png": "[encoded data removed]",
      "text/plain": [
       "<Figure size 432x288 with 1 Axes>"
      ]
     },
     "metadata": {
      "needs_background": "light"
     },
     "output_type": "display_data"
    }
   ],
   "source": [
    "# Import matplotlib.pyplot with alias plt\n",
    "import matplotlib.pyplot as plt\n",
    "\n",
    "# Check individual values for missing values\n",
    "print(avocados_2016.isna())\n",
    "\n",
    "# Check each column for missing values\n",
    "print(avocados_2016.isna().any())\n",
    "\n",
    "# Bar plot of missing values by variable\n",
    "avocados_2016.isna().sum().plot(kind='bar')\n",
    "\n",
    "# Show plot\n",
    "plt.show()"
   ]
  },
  {
   "cell_type": "raw",
   "metadata": {},
   "source": [
    "## Removing missing values\n",
    "\n",
    "Now that you know there are some missing values in your DataFrame, you have a few options to deal with them. One way is to remove them from the dataset completely. In this exercise, you'll remove missing values by removing all rows that contain missing values.\n",
    "\n",
    "`pandas` has been imported as `pd` and `avocados_2016` is available.\n",
    "\n",
    "<hr>\n",
    "\n",
    "**Instructions**\n",
    "* Remove the rows of `avocados_2016` that contain missing values and store the remaining rows in `avocados_complete`.\n",
    "* Verify that all missing values have been removed from `avocados_complete`. Calculate each columns has any NAs, and print."
   ]
  },
  {
   "cell_type": "code",
   "execution_count": 46,
   "metadata": {},
   "outputs": [
    {
     "name": "stdout",
     "output_type": "stream",
     "text": [
      "date         False\n",
      "type         False\n",
      "year         False\n",
      "avg_price    False\n",
      "size         False\n",
      "nb_sold      False\n",
      "dtype: bool\n"
     ]
    }
   ],
   "source": [
    "# Remove rows with missing values\n",
    "avocados_complete = avocados_2016.dropna()\n",
    "\n",
    "# Check if any columns contain missing values\n",
    "print(avocados_complete.isna().any())"
   ]
  },
  {
   "cell_type": "raw",
   "metadata": {},
   "source": [
    "## Replacing missing values\n",
    "\n",
    "Another way of handling missing values is to replace them all with the same value. For numerical variables, one option is to replace values with 0—you'll do this here. However, when you replace missing values, you make assumptions about what a missing value means. In this case, you will assume that a missing number sold means that no sales for that avocado type were made that week.\n",
    "\n",
    "In this exercise, you'll see how replacing missing values can affect the distribution of a variable using histograms. You can plot histograms for multiple variables at a time as follows:\n",
    "\n",
    "> dogs[[\"height_cm\", \"weight_kg\"]].hist()\n",
    "\n",
    "`pandas` has been imported as `pd` and `matplotlib.pyplot` has been imported as `plt`.\n",
    "\n",
    "<hr>\n",
    "\n",
    "**Instructions 1/2**\n",
    "* Create a list, `cols_with_missing`, naming the columns with missing values: `\"small_sold\"`, `\"large_sold\"`, and `\"xl_sold\"`.\n",
    "* Create a histogram of those columns.\n",
    "* Show the plot.\n",
    "\n",
    "**Instructions 2/2**\n",
    "* Replace the missing values of `avocados_2016` with `0`s and store the result as `avocados_filled`.\n",
    "* Create a histogram of the `cols_with_missing` columns of `avocados_filled`.\n"
   ]
  },
  {
   "cell_type": "code",
   "execution_count": 52,
   "metadata": {},
   "outputs": [
    {
     "data": {
      "image/png": "[encoded data removed]",
      "text/plain": [
       "<Figure size 432x288 with 2 Axes>"
      ]
     },
     "metadata": {
      "needs_background": "light"
     },
     "output_type": "display_data"
    }
   ],
   "source": [
    "# List the columns with missing values\n",
    "#cols_with_missing = ['small_sold','large_sold','xl_sold']\n",
    "cols_with_missing = ['year','size','avg_price']\n",
    "# Create histograms showing the distributions cols_with_missing\n",
    "avocados_2016[cols_with_missing].hist()\n",
    "\n",
    "# Show the plot\n",
    "plt.show()"
   ]
  },
  {
   "cell_type": "code",
   "execution_count": 48,
   "metadata": {},
   "outputs": [
    {
     "data": {
      "image/png": "[encoded data removed]",
      "text/plain": [
       "<Figure size 432x288 with 2 Axes>"
      ]
     },
     "metadata": {
      "needs_background": "light"
     },
     "output_type": "display_data"
    }
   ],
   "source": [
    "# Fill in missing values with 0\n",
    "avocados_filled = avocados_2016.fillna(0)\n",
    "\n",
    "# Create histograms of the filled columns\n",
    "avocados_filled[cols_with_missing].hist()\n",
    "\n",
    "# Show the plot\n",
    "plt.show()"
   ]
  },
  {
   "cell_type": "code",
   "execution_count": null,
   "metadata": {},
   "outputs": [],
   "source": [
    "## List of dictionaries\n",
    "\n",
    "You recently got some new avocado data from 2019 that you'd like to put in a DataFrame using the list of dictionaries method. Remember that with this method, you go through the data row by row.\n",
    "\n",
    "| date         | small_sold | large_sold |\n",
    "|--------------|------------|------------|\n",
    "| \"2019-11-03\" | 10376832   | 7835071    |\n",
    "| \"2019-11-10\" | 10717154   | 8561348    |\n",
    "\n",
    "`pandas` as pd `is` imported.\n",
    "\n",
    "<hr>\n",
    "\n",
    "**Instructions**\n",
    "\n",
    "* Create a list of dictionaries with the new data called `avocados_list`.\n",
    "* Convert the list into a DataFrame called `avocados_2019`.\n",
    "* Print your new DataFrame.\n",
    "\n"
   ]
  },
  {
   "cell_type": "code",
   "execution_count": 53,
   "metadata": {},
   "outputs": [
    {
     "name": "stdout",
     "output_type": "stream",
     "text": [
      "         date  large_sold  small_sold\n",
      "0  2019-11-03     7835071    10376832\n",
      "1  2019-11-10     8561348    10717154\n"
     ]
    }
   ],
   "source": [
    "## Script\n",
    "\n",
    "# Create a list of dictionaries with new data\n",
    "avocados_list = [\n",
    "    {'date': \"2019-11-03\", 'small_sold': 10376832, 'large_sold': 7835071},\n",
    "    {'date': \"2019-11-10\", 'small_sold': 10717154, 'large_sold': 8561348},\n",
    "]\n",
    "\n",
    "# Convert list into DataFrame\n",
    "avocados_2019 = pd.DataFrame(avocados_list)\n",
    "\n",
    "# Print the new DataFrame\n",
    "print(avocados_2019)"
   ]
  },
  {
   "cell_type": "raw",
   "metadata": {},
   "source": [
    "## Dictionary of lists\n",
    "\n",
    "Some more data just came in! This time, you'll use the dictionary of lists method, parsing the data column by column.\n",
    "\n",
    "| date         | small_sold | large_sold |\n",
    "|--------------|------------|------------|\n",
    "| \"2019-11-17\" | 10859987   | 7674135    |\n",
    "| \"2019-12-01\" | 9291631    | 6238096    |\n",
    "\n",
    "`pandas` as `pd` is imported.\n",
    "\n",
    "<hr>\n",
    "\n",
    "**Instructions**\n",
    "* Create a dictionary of lists with the new data called `avocados_dict`.\n",
    "* Convert the dictionary to a DataFrame called `avocados_2019`.\n",
    "* Print your new DataFrame.\n",
    "\n",
    "\n"
   ]
  },
  {
   "cell_type": "code",
   "execution_count": 54,
   "metadata": {},
   "outputs": [
    {
     "name": "stdout",
     "output_type": "stream",
     "text": [
      "         date  small_sold  large_sold\n",
      "0  2019-11-17    10859987     7674135\n",
      "1  2019-12-01     9291631     6238096\n"
     ]
    }
   ],
   "source": [
    "# Create a dictionary of lists with new data\n",
    "avocados_dict = {\n",
    "  \"date\": ['2019-11-17','2019-12-01'],\n",
    "  \"small_sold\": [10859987,9291631],\n",
    "  \"large_sold\": [7674135,6238096]\n",
    "}\n",
    "\n",
    "# Convert dictionary into DataFrame\n",
    "avocados_2019 = pd.DataFrame(avocados_dict)\n",
    "\n",
    "# Print the new DataFrame\n",
    "print(avocados_2019)"
   ]
  },
  {
   "cell_type": "raw",
   "metadata": {},
   "source": [
    "## CSV to DataFrame\n",
    "\n",
    "You work for an airline, and your manager has asked you to do a competitive analysis and see how often passengers flying on other airlines are involuntarily bumped from their flights. You got a CSV file (`airline_bumping.csv`) from the Department of Transportation containing data on passengers that were involuntarily denied boarding in 2016 and 2017, but it doesn't have the exact numbers you want. In order to figure this out, you'll need to get the CSV into a pandas DataFrame and do some manipulation!\n",
    "\n",
    "`pandas` is imported for you as `pd`. `\"airline_bumping.csv\"` is in your working directory.\n",
    "\n",
    "<hr>\n",
    "\n",
    "**Instructions 1/4**\n",
    "* Read the CSV file `\"airline_bumping.csv\"` and store it as a DataFrame called `airline_bumping`.\n",
    "* Print the first few rows of `airline_bumping`.\n",
    "\n",
    "**Instructions 2/4**\n",
    "* For each airline group, select the `nb_bumped`, and `total_passengers` columns, and calculate the sum (for both years). Store this as `airline_totals`.\n",
    "\n",
    "**Instructions 3/4**\n",
    "* Create a new column of `airline_totals` called `bumps_per_10k`, which is the number of passengers bumped per 10,000 passengers in 2016 and 2017.\n",
    "\n",
    "**Instructions 4/4**\n",
    "* Print `airline_totals` to see the results of your manipulations."
   ]
  },
  {
   "cell_type": "raw",
   "metadata": {},
   "source": [
    "# Read CSV as DataFrame called airline_bumping\n",
    "airline_bumping = pd.read_csv('airline_bumping.csv')\n",
    "\n",
    "# Take a look at the DataFrame\n",
    "print(airline_bumping.head())\n",
    "# From previous step\n",
    "airline_bumping = pd.read_csv(\"airline_bumping.csv\")\n",
    "print(airline_bumping.head())\n",
    "\n",
    "# For each airline, select nb_bumped and total_passengers and sum\n",
    "airline_totals = airline_bumping.groupby('airline')[['nb_bumped','total_passengers']].sum()"
   ]
  },
  {
   "cell_type": "raw",
   "metadata": {},
   "source": [
    "# From previous steps\n",
    "airline_bumping = pd.read_csv(\"airline_bumping.csv\")\n",
    "print(airline_bumping.head())\n",
    "airline_totals = airline_bumping.groupby(\"airline\")[[\"nb_bumped\", \"total_passengers\"]].sum()\n",
    "\n",
    "# Create new col, bumps_per_10k: no. of bumps per 10k passengers for each airline\n",
    "airline_totals[\"bumps_per_10k\"] = airline_totals['nb_bumped'] / airline_totals['total_passengers'] * 10000\n",
    "\n",
    "# From previous steps\n",
    "airline_bumping = pd.read_csv(\"airline_bumping.csv\")\n",
    "print(airline_bumping.head())\n",
    "airline_totals = airline_bumping.groupby(\"airline\")[[\"nb_bumped\", \"total_passengers\"]].sum()\n",
    "airline_totals[\"bumps_per_10k\"] = airline_totals[\"nb_bumped\"] / airline_totals[\"total_passengers\"] * 10000\n",
    "\n",
    "# Print airline_totals\n",
    "print(airline_totals)"
   ]
  },
  {
   "cell_type": "raw",
   "metadata": {},
   "source": [
    "## DataFrame to CSV\n",
    "\n",
    "You're almost there! To make things easier to read, you'll need to sort the data and export it to CSV so that your colleagues can read it.\n",
    "\n",
    "`pandas` as `pd` has been imported for you.\n",
    "\n",
    "<hr>\n",
    "\n",
    "**Instructions**\n",
    "\n",
    "* Sort `airline_totals` by the values of `bumps_per_10k` from highest to lowest, storing as `airline_totals_sorted`.\n",
    "* Print your sorted DataFrame.\n",
    "* Save the sorted DataFrame as a CSV called `\"airline_totals_sorted.csv\"`.\n",
    "\n",
    "## Script\n",
    "```\n",
    "# Create airline_totals_sorted\n",
    "airline_totals_sorted = airline_totals.sort_values('bumps_per_10k', ascending=False)\n",
    "\n",
    "# Print airline_totals_sorted\n",
    "print(airline_totals_sorted)\n",
    "\n",
    "# Save as airline_totals_sorted.csv\n",
    "airline_totals_sorted.to_csv('airline_totals_sorted.csv')\n",
    "```"
   ]
  },
  {
   "cell_type": "code",
   "execution_count": null,
   "metadata": {},
   "outputs": [],
   "source": []
  }
 ],
 "metadata": {
  "kernelspec": {
   "display_name": "Python 3",
   "language": "python",
   "name": "python3"
  },
  "language_info": {
   "codemirror_mode": {
    "name": "ipython",
    "version": 3
   },
   "file_extension": ".py",
   "mimetype": "text/x-python",
   "name": "python",
   "nbconvert_exporter": "python",
   "pygments_lexer": "ipython3",
   "version": "3.7.1"
  }
 },
 "nbformat": 4,
 "nbformat_minor": 2
}
