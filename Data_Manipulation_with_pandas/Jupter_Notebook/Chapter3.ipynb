{
 "cells": [
  {
   "cell_type": "code",
   "execution_count": 159,
   "metadata": {},
   "outputs": [
    {
     "data": {
      "text/html": [
       "<div>\n",
       "<style scoped>\n",
       "    .dataframe tbody tr th:only-of-type {\n",
       "        vertical-align: middle;\n",
       "    }\n",
       "\n",
       "    .dataframe tbody tr th {\n",
       "        vertical-align: top;\n",
       "    }\n",
       "\n",
       "    .dataframe thead th {\n",
       "        text-align: right;\n",
       "    }\n",
       "</style>\n",
       "<table border=\"1\" class=\"dataframe\">\n",
       "  <thead>\n",
       "    <tr style=\"text-align: right;\">\n",
       "      <th></th>\n",
       "      <th>city</th>\n",
       "      <th>country</th>\n",
       "      <th>Temperature</th>\n",
       "      <th>Wind</th>\n",
       "      <th>date</th>\n",
       "    </tr>\n",
       "  </thead>\n",
       "  <tbody>\n",
       "    <tr>\n",
       "      <th>0</th>\n",
       "      <td>Yerky</td>\n",
       "      <td>UA</td>\n",
       "      <td>-1.86</td>\n",
       "      <td>3.47</td>\n",
       "      <td>February 5, 2010</td>\n",
       "    </tr>\n",
       "    <tr>\n",
       "      <th>1</th>\n",
       "      <td>Caconda</td>\n",
       "      <td>AO</td>\n",
       "      <td>26.15</td>\n",
       "      <td>1.22</td>\n",
       "      <td>February 12, 2010</td>\n",
       "    </tr>\n",
       "    <tr>\n",
       "      <th>2</th>\n",
       "      <td>Diamantino</td>\n",
       "      <td>BR</td>\n",
       "      <td>29.40</td>\n",
       "      <td>2.12</td>\n",
       "      <td>February 19, 2010</td>\n",
       "    </tr>\n",
       "    <tr>\n",
       "      <th>3</th>\n",
       "      <td>Huarmey</td>\n",
       "      <td>PE</td>\n",
       "      <td>21.60</td>\n",
       "      <td>1.62</td>\n",
       "      <td>February 26, 2010</td>\n",
       "    </tr>\n",
       "    <tr>\n",
       "      <th>4</th>\n",
       "      <td>Abha</td>\n",
       "      <td>SA</td>\n",
       "      <td>14.03</td>\n",
       "      <td>0.22</td>\n",
       "      <td>March 5, 2010</td>\n",
       "    </tr>\n",
       "  </tbody>\n",
       "</table>\n",
       "</div>"
      ],
      "text/plain": [
       "         city country  Temperature  Wind               date\n",
       "0       Yerky      UA        -1.86  3.47   February 5, 2010\n",
       "1     Caconda      AO        26.15  1.22  February 12, 2010\n",
       "2  Diamantino      BR        29.40  2.12  February 19, 2010\n",
       "3     Huarmey      PE        21.60  1.62  February 26, 2010\n",
       "4        Abha      SA        14.03  0.22      March 5, 2010"
      ]
     },
     "execution_count": 159,
     "metadata": {},
     "output_type": "execute_result"
    }
   ],
   "source": [
    "import pandas as pd\n",
    "temperature_file= r'C:\\Machinelearning\\datacamp\\Thangaraj_Datacamp-Data_Scientist_with_Python\\Data_Manipulation_with_pandas\\Datasets\\weather_data.csv'\n",
    "temperatures = pd.read_csv(temperature_file)\n",
    "temperatures.head()"
   ]
  },
  {
   "cell_type": "markdown",
   "metadata": {},
   "source": [
    "# Setting & removing indexes"
   ]
  },
  {
   "cell_type": "raw",
   "metadata": {},
   "source": [
    "## Setting & removing indexes\n",
    "\n",
    "pandas allows you to designate columns as an index. This enables cleaner code when taking subsets (as well as providing more efficient lookup under some circumstances).\n",
    "\n",
    "In this chapter, you'll be exploring `temperatures`, a DataFrame of average temperatures in cities around the world. `pandas` is loaded as `pd`.\n",
    "\n",
    "<hr>\n",
    "\n",
    "**Instructions**\n",
    "\n",
    "* *Look at `temperatures`*.\n",
    "* Set the index of `temperatures` to `\"city\"`, assigning to `temperatures_ind`.\n",
    "* *Look at `temperatures_ind`. How is it different from `temperatures`?*\n",
    "* Reset the index of `temperatures_ind`, keeping its contents.\n",
    "* Reset the index of `temperatures_ind`, dropping its contents.\n",
    "\n"
   ]
  },
  {
   "cell_type": "code",
   "execution_count": 160,
   "metadata": {},
   "outputs": [
    {
     "name": "stdout",
     "output_type": "stream",
     "text": [
      "         city country  Temperature  Wind               date\n",
      "0       Yerky      UA        -1.86  3.47   February 5, 2010\n",
      "1     Caconda      AO        26.15  1.22  February 12, 2010\n",
      "2  Diamantino      BR        29.40  2.12  February 19, 2010\n",
      "3     Huarmey      PE        21.60  1.62  February 26, 2010\n",
      "4        Abha      SA        14.03  0.22      March 5, 2010\n"
     ]
    }
   ],
   "source": [
    "# Look at temperatures\n",
    "print(temperatures.head())\n",
    "\n",
    "\n",
    "\n"
   ]
  },
  {
   "cell_type": "code",
   "execution_count": 161,
   "metadata": {},
   "outputs": [],
   "source": [
    "# Index temperatures by city\n",
    "temperatures_ind = temperatures.set_index(\"city\")"
   ]
  },
  {
   "cell_type": "code",
   "execution_count": 162,
   "metadata": {},
   "outputs": [
    {
     "name": "stdout",
     "output_type": "stream",
     "text": [
      "           country  Temperature  Wind               date\n",
      "city                                                    \n",
      "Yerky           UA        -1.86  3.47   February 5, 2010\n",
      "Caconda         AO        26.15  1.22  February 12, 2010\n",
      "Diamantino      BR        29.40  2.12  February 19, 2010\n",
      "Huarmey         PE        21.60  1.62  February 26, 2010\n",
      "Abha            SA        14.03  0.22      March 5, 2010\n"
     ]
    }
   ],
   "source": [
    "# Look at temperatures_ind\n",
    "print(temperatures_ind.head(5))  \n"
   ]
  },
  {
   "cell_type": "code",
   "execution_count": 163,
   "metadata": {},
   "outputs": [
    {
     "name": "stdout",
     "output_type": "stream",
     "text": [
      "         city country  Temperature  Wind               date\n",
      "0       Yerky      UA        -1.86  3.47   February 5, 2010\n",
      "1     Caconda      AO        26.15  1.22  February 12, 2010\n",
      "2  Diamantino      BR        29.40  2.12  February 19, 2010\n",
      "3     Huarmey      PE        21.60  1.62  February 26, 2010\n",
      "4        Abha      SA        14.03  0.22      March 5, 2010\n"
     ]
    }
   ],
   "source": [
    "# Reset the index, keeping its contents\n",
    "temperatures_ind.reset_index()\n",
    "# Here city will be moved as zero index and will display like sepearte column\n",
    "print(temperatures_ind.reset_index().head(5))"
   ]
  },
  {
   "cell_type": "code",
   "execution_count": 164,
   "metadata": {},
   "outputs": [
    {
     "name": "stdout",
     "output_type": "stream",
     "text": [
      "  country  Temperature  Wind               date\n",
      "0      UA        -1.86  3.47   February 5, 2010\n",
      "1      AO        26.15  1.22  February 12, 2010\n",
      "2      BR        29.40  2.12  February 19, 2010\n",
      "3      PE        21.60  1.62  February 26, 2010\n",
      "4      SA        14.03  0.22      March 5, 2010\n"
     ]
    }
   ],
   "source": [
    "# Reset the index, dropping its contents\n",
    "#print(temperatures_ind.reset_index(drop=True))# City column will be removed\n",
    "print(temperatures_ind.reset_index(drop=True).head(5))"
   ]
  },
  {
   "cell_type": "markdown",
   "metadata": {},
   "source": [
    "# Subsetting with .loc[]  another method to verify isin()"
   ]
  },
  {
   "cell_type": "raw",
   "metadata": {},
   "source": [
    "## Subsetting with .loc[]\n",
    "\n",
    "The killer feature for indexes is `.loc[]`: a subsetting method that accepts index values. When you pass it a single argument, it will take a subset of rows.\n",
    "\n",
    "The code for subsetting using `.loc[]` can be easier to read than standard square bracket subsetting, which can make your code less burdensome to maintain.\n",
    "\n",
    "`pandas` is loaded as `pd`. `temperatures` and `temperatures_ind` are available; the latter is indexed by `city`.\n",
    "\n",
    "<hr>\n",
    "\n",
    "**Instructions**\n",
    "\n",
    "* Create a list of cities to subset on: Moscow and Saint Petersburg. Assign to `cities`.\n",
    "* Use `[]` subsetting to filter `temperatures` for rows where the city column takes a value in `cities`.\n",
    "* Use `.loc[]` subsetting to filter temperatures_ind for rows where the city is in `cities`.\n"
   ]
  },
  {
   "cell_type": "code",
   "execution_count": 165,
   "metadata": {},
   "outputs": [
    {
     "name": "stdout",
     "output_type": "stream",
     "text": [
      "      city country  Temperature  Wind               date\n",
      "0    Yerky      UA        -1.86  3.47   February 5, 2010\n",
      "1  Caconda      AO        26.15  1.22  February 12, 2010\n",
      "-----------------------------------------\n",
      "        country  Temperature  Wind               date\n",
      "city                                                 \n",
      "Yerky        UA        -1.86  3.47   February 5, 2010\n",
      "Caconda      AO        26.15  1.22  February 12, 2010\n"
     ]
    }
   ],
   "source": [
    "# Make a list of cities to subset on\n",
    "cities = [\"Yerky\", \"Caconda\"]\n",
    "\n",
    "# Subset temperatures using square brackets\n",
    "print(temperatures[temperatures[\"city\"].isin(cities)])\n",
    "print('-----------------------------------------')\n",
    "# Subset temperatures_ind using .loc[]\n",
    "print(temperatures_ind.loc[cities])"
   ]
  },
  {
   "cell_type": "markdown",
   "metadata": {},
   "source": [
    "# Setting multi-level indexes and subsetting based on pair of index"
   ]
  },
  {
   "cell_type": "raw",
   "metadata": {},
   "source": [
    "## Setting multi-level indexes\n",
    "\n",
    "Indexes can also be made out of multiple columns, forming a *multi-level index* (sometimes called a *hierarchical index*). There is a trade-off to using these.\n",
    "\n",
    "The benefit is that multi-level indexes make it more natural to reason about nested categorical variables. For example, in a clinical trial you might have control and treatment groups. Then each test subject belongs to one or other group, and we can say that test subject is nested inside treatment group. Similarly, in the temperature dataset, the city is located in the country, so we can say city is nested inside country.\n",
    "\n",
    "The main downside is that the code for manipulating indexes is different to the code for the manipulating columns, so you have to learn two syntaxes, and keep track of how your data is represented.\n",
    "\n",
    "`pandas` is loaded as `pd`. `temperatures` is available.\n",
    "\n",
    "<hr>\n",
    "\n",
    "**Instructions**\n",
    "\n",
    "* Set the index of `temperatures` to the `\"country\"` and `\"city\"` columns, assigning to `temperatures_ind`.\n",
    "* Specify two country/city pairs to keep: `\"Brazil\"`/`\"Rio De Janeiro\"` and `\"Pakistan\"`/`\"Lahore\"`, assigning to `rows_to_keep`.\n",
    "* Subset for `rows_to_keep` using `.loc[]`.\n"
   ]
  },
  {
   "cell_type": "code",
   "execution_count": 166,
   "metadata": {},
   "outputs": [
    {
     "name": "stdout",
     "output_type": "stream",
     "text": [
      "                    Temperature  Wind               date\n",
      "country city                                            \n",
      "UA      Yerky             -1.86  3.47   February 5, 2010\n",
      "AO      Caconda           26.15  1.22  February 12, 2010\n",
      "BR      Diamantino        29.40  2.12  February 19, 2010\n",
      "PE      Huarmey           21.60  1.62  February 26, 2010\n",
      "SA      Abha              14.03  0.22      March 5, 2010\n",
      "--------------------------\n",
      "                 Temperature  Wind               date\n",
      "country city                                         \n",
      "UA      Yerky          -1.86  3.47   February 5, 2010\n",
      "AO      Caconda        26.15  1.22  February 12, 2010\n"
     ]
    }
   ],
   "source": [
    "# Index temperatures by country & city\n",
    "temperatures_ind = temperatures.set_index([\"country\", \"city\"])\n",
    "print(temperatures_ind.head(5))\n",
    "print('--------------------------')\n",
    "# List of tuples: Brazil, Rio De Janeiro & Pakistan, Lahore\n",
    "rows_to_keep = [(\"UA\", \"Yerky\"), (\"AO\", \"Caconda\")]\n",
    "\n",
    "# Subset for rows to keep\n",
    "print(temperatures_ind.loc[rows_to_keep])"
   ]
  },
  {
   "cell_type": "markdown",
   "metadata": {},
   "source": [
    "# Sorting by index values"
   ]
  },
  {
   "cell_type": "raw",
   "metadata": {},
   "source": [
    "## Sorting by index values\n",
    "\n",
    "Previously, you changed the order of the rows in a DataFrame by calling `.sort_values()`. It's also useful to be able to sort by elements in the index. For this, you need to use `.sort_index()`.\n",
    "\n",
    "`pandas` is loaded as `pd`. `temperatures_ind` has a multi-level index of country and `city`, and is available.\n",
    "\n",
    "<hr>\n",
    "\n",
    "**Instructions**\n",
    "\n",
    "* Sort `temperatures_ind` by the index values.\n",
    "* Sort `temperatures_ind` by the index values at the `\"city\"` level.\n",
    "* Sort `temperatures_ind` by ascending country then descending city.\n"
   ]
  },
  {
   "cell_type": "markdown",
   "metadata": {},
   "source": [
    "# Sort by outerlevel index"
   ]
  },
  {
   "cell_type": "code",
   "execution_count": 167,
   "metadata": {},
   "outputs": [
    {
     "name": "stdout",
     "output_type": "stream",
     "text": [
      "                      Temperature  Wind               date\n",
      "country city                                              \n",
      "AE      Abu Dhabi           20.48  6.20  February 25, 2011\n",
      "AF      Rudbar              12.52  4.22    August 31, 2012\n",
      "        Uruzgan             -5.86  0.97  February 10, 2012\n",
      "AI      The Valley          26.53  4.60   January 18, 2013\n",
      "AL      Bajram Curri        -6.13  0.77      July 22, 2011\n"
     ]
    }
   ],
   "source": [
    "# Sort temperatures_ind by index values\n",
    "#print(temperatures_ind.sort_index())\n",
    "print(temperatures_ind.sort_index().head())  # Sorting based on index (Hear based on country )\n",
    "\n"
   ]
  },
  {
   "cell_type": "markdown",
   "metadata": {},
   "source": [
    "# Sorting by inner level index"
   ]
  },
  {
   "cell_type": "code",
   "execution_count": 168,
   "metadata": {},
   "outputs": [
    {
     "name": "stdout",
     "output_type": "stream",
     "text": [
      "                   Temperature  Wind               date\n",
      "country city                                           \n",
      "NE      Abalak           22.27  1.32       May 11, 2012\n",
      "PE      Abancay           3.00  6.20   January 25, 2013\n",
      "SA      Abha             14.03  0.22      March 5, 2010\n",
      "IR      Abhar           -10.78  1.62    October 8, 2010\n",
      "AE      Abu Dhabi        20.48  6.20  February 25, 2011\n"
     ]
    }
   ],
   "source": [
    "# Sort temperatures_ind by index values at the city level # Sorting based on inner level\n",
    "#print(temperatures_ind.sort_index(level=\"city\"))\n",
    "print(temperatures_ind.sort_index(level=\"city\").head(5))"
   ]
  },
  {
   "cell_type": "markdown",
   "metadata": {},
   "source": [
    "# Sorting by combined level outer ascending order, Inner - descending"
   ]
  },
  {
   "cell_type": "code",
   "execution_count": 169,
   "metadata": {},
   "outputs": [
    {
     "name": "stdout",
     "output_type": "stream",
     "text": [
      "                      Temperature  Wind                date\n",
      "country city                                               \n",
      "NaN     Oranjemund          17.82  3.87  September 16, 2011\n",
      "        Opuwo               27.87  4.22      August 6, 2010\n",
      "        Mariental           26.65  2.52       March 8, 2013\n",
      "        Luderitz            17.00  5.82   December 30, 2011\n",
      "        Henties Bay         18.57  5.27       July 19, 2013\n",
      "        Grootfontein        29.00  1.50       June 11, 2010\n",
      "AE      Abu Dhabi           20.48  6.20   February 25, 2011\n",
      "AF      Uruzgan             -5.86  0.97   February 10, 2012\n",
      "        Rudbar              12.52  4.22     August 31, 2012\n",
      "AI      The Valley          26.53  4.60    January 18, 2013\n"
     ]
    }
   ],
   "source": [
    "# Sort temperatures_ind by country then descending city\n",
    "#print(temperatures_ind.sort_index(level=[\"country\", \"city\"], ascending=[True, False]))\n",
    "print(temperatures_ind.sort_index(level=[\"country\", \"city\"], ascending=[True, False]).head(10))"
   ]
  },
  {
   "cell_type": "markdown",
   "metadata": {},
   "source": [
    "# Slicing lists"
   ]
  },
  {
   "cell_type": "code",
   "execution_count": 170,
   "metadata": {},
   "outputs": [],
   "source": [
    "breeds = [\"Labrador\", \"Poodle\",\n",
    "\"Chow Chow\", \"Schnauzer\",\n",
    "\"Labrador\", \"Chihuahua\",\n",
    "\"St. Bernard\"]"
   ]
  },
  {
   "cell_type": "code",
   "execution_count": 171,
   "metadata": {},
   "outputs": [
    {
     "data": {
      "text/plain": [
       "['Chow Chow', 'Schnauzer', 'Labrador']"
      ]
     },
     "execution_count": 171,
     "metadata": {},
     "output_type": "execute_result"
    }
   ],
   "source": [
    "breeds[2:5]"
   ]
  },
  {
   "cell_type": "code",
   "execution_count": 172,
   "metadata": {},
   "outputs": [
    {
     "data": {
      "text/plain": [
       "['Labrador', 'Poodle', 'Chow Chow']"
      ]
     },
     "execution_count": 172,
     "metadata": {},
     "output_type": "execute_result"
    }
   ],
   "source": [
    "breeds[:3]"
   ]
  },
  {
   "cell_type": "code",
   "execution_count": 173,
   "metadata": {},
   "outputs": [
    {
     "data": {
      "text/plain": [
       "['Labrador',\n",
       " 'Poodle',\n",
       " 'Chow Chow',\n",
       " 'Schnauzer',\n",
       " 'Labrador',\n",
       " 'Chihuahua',\n",
       " 'St. Bernard']"
      ]
     },
     "execution_count": 173,
     "metadata": {},
     "output_type": "execute_result"
    }
   ],
   "source": [
    "breeds[:]"
   ]
  },
  {
   "cell_type": "markdown",
   "metadata": {},
   "source": [
    "# Slicing the dataframe"
   ]
  },
  {
   "cell_type": "markdown",
   "metadata": {},
   "source": [
    "# Slicing the multi index  - Based on outer and inner Row index using .loc\n"
   ]
  },
  {
   "cell_type": "raw",
   "metadata": {},
   "source": [
    "## Slicing index values\n",
    "\n",
    "Slicing lets you select consecutive elements of an object using `first:last` syntax. DataFrames can be sliced by index values, or by row/column number; we'll start with the first case. This involves slicing inside the `.loc[]` method.\n",
    "\n",
    "Compared to slicing lists, there are a few things to remember.\n",
    "\n",
    "* You can only slice an index if the index is sorted (using `.sort_index()`).\n",
    "* To slice at the outer level, `first` and `last` can be strings.\n",
    "* To slice at inner levels, `first` and `last` should be tuples.\n",
    "* If you pass a single slice to `.loc[]`, it will slice the rows.\n",
    "\n",
    "`pandas` is loaded as `pd`. `temperatures_ind` has country and city in the index, and is available.\n",
    "\n",
    "<hr>\n",
    "\n",
    "**Instructions**\n",
    "* Sort the index of `temperatures_ind`.\n",
    "* Use slicing with `.loc[]` to get these subsets:\n",
    "    * from Pakistan to Russia.\n",
    "    * from Lahore to Moscow. (*This will return nonsense.*)\n",
    "    * from Pakistan, Lahore to Russia, Moscow.\n"
   ]
  },
  {
   "cell_type": "code",
   "execution_count": 174,
   "metadata": {},
   "outputs": [],
   "source": [
    "# Index temperatures by country & city\n",
    "temperatures_ind = temperatures.set_index([\"country\", \"city\"])"
   ]
  },
  {
   "cell_type": "code",
   "execution_count": 175,
   "metadata": {},
   "outputs": [],
   "source": [
    "# Sort the index of temperatures_ind\n",
    "temperatures_srt = temperatures_ind.sort_index()"
   ]
  },
  {
   "cell_type": "code",
   "execution_count": 176,
   "metadata": {},
   "outputs": [
    {
     "name": "stdout",
     "output_type": "stream",
     "text": [
      "                      Temperature  Wind               date\n",
      "country city                                              \n",
      "AE      Abu Dhabi           20.48  6.20  February 25, 2011\n",
      "AF      Rudbar              12.52  4.22    August 31, 2012\n",
      "        Uruzgan             -5.86  0.97  February 10, 2012\n",
      "AI      The Valley          26.53  4.60   January 18, 2013\n",
      "AL      Bajram Curri        -6.13  0.77      July 22, 2011\n",
      "        Roskovec             3.72  2.42   October 15, 2010\n",
      "AM      Amasia             -11.00  0.50     March 15, 2013\n",
      "AO      Benguela            25.92  2.82    October 5, 2012\n",
      "        Caconda             26.15  1.22  February 12, 2010\n",
      "        Luanda              27.00  4.10     April 26, 2013\n",
      "------------------------------\n",
      "           Temperature  Wind               date\n",
      "city                                           \n",
      "Abu Dhabi        20.48   6.2  February 25, 2011\n",
      "------------------------------\n",
      "         Temperature  Wind               date\n",
      "city                                         \n",
      "Rudbar         12.52  4.22    August 31, 2012\n",
      "Uruzgan        -5.86  0.97  February 10, 2012\n",
      "------------------------------\n",
      "------------------------------\n"
     ]
    }
   ],
   "source": [
    "#https://pandas.pydata.org/pandas-docs/version/0.19.1/advanced.html\n",
    "temperatures_srt = temperatures.set_index([\"country\", \"city\"]).sort_index(ascending = True) # Here the dataframe has multi index example country & city\n",
    "# & Sorted in acending order\n",
    "#print(temperatures_srt)\n",
    "print(temperatures_srt.head(10))\n",
    "print('------------------------------')\n",
    "# Subset rows from Pakistan to Russia  # Here we are using outer layer for subset\n",
    "#print(temperatures_srt.loc[\"Pakistan\":\"Russia\"])\n",
    "print(temperatures_srt.loc[\"AE\"])\n",
    "print('------------------------------')\n",
    "print(temperatures_srt.loc[\"AF\"])\n",
    "print('------------------------------')\n",
    "#print(temperatures_srt.loc[\"AL\":\"AO\"])\n",
    "# Try to subset rows from Lahore to Moscow\n",
    "#print(temperatures_srt.loc[\"Lahore\":\"Moscow\"])\n",
    "print('------------------------------')\n",
    "#print(temperatures_srt.loc[\"Rudbar\":\"Luanda\"])\n",
    "\n",
    "# Subset rows from Pakistan, Lahore to Russia, Moscow\n",
    "#print(temperatures_srt.loc[(\"Pakistan\",\"Lahore\"):(\"Russia\",\"Moscow\")])\n",
    "#print(temperatures_srt.loc[(\"AF\",\"Rudbar\"):(\"AL\",\"Roskovec\")])"
   ]
  },
  {
   "cell_type": "markdown",
   "metadata": {},
   "source": [
    "# Slicing in both directions"
   ]
  },
  {
   "cell_type": "raw",
   "metadata": {},
   "source": [
    "## Slicing in both directions\n",
    "\n",
    "You've seen slicing DataFrames by rows and by columns, but since DataFrames are two dimensional objects it is often natural to slice both dimensions at once. That is, by passing two arguments to `.loc[]`, you can subset by rows and columns in one go.\n",
    "\n",
    "`pandas` is loaded as `pd`. `temperatures_srt` is indexed by country and city, has a sorted index, and is available.\n",
    "\n",
    "<hr>\n",
    "\n",
    "**Instructions**\n",
    "* Use `.loc[]` slicing to subset rows from India, Hyderabad to Iraq, Baghdad.\n",
    "* Use `.loc[]` slicing to subset columns from `date` to `avg_temp_c`.\n",
    "* Slice in both directions at once from Hyderabad to Baghdad, and `date` to `avg_temp_c`.\n",
    "\n"
   ]
  },
  {
   "cell_type": "code",
   "execution_count": 177,
   "metadata": {},
   "outputs": [],
   "source": [
    "# # Subset rows from India, Hyderabad to Iraq, Baghdad  # Multi row combination\n",
    "# print(temperatures_srt.loc[(\"India\", \"Hyderabad\"):(\"Iraq\",\"Baghdad\")])\n",
    "\n",
    "# # Subset columns from date to avg_temp_c\n",
    "# print(temperatures_srt.loc[:, \"date\":\"avg_temp_c\"])\n",
    "\n",
    "# # Subset in both directions at once  # Here first set row range ,Date and avf time is column range\n",
    "# print(temperatures_srt.loc[(\"India\", \"Hyderabad\"):(\"Iraq\",\"Baghdad\"), \"date\":\"avg_temp_c\"])\n"
   ]
  },
  {
   "cell_type": "markdown",
   "metadata": {},
   "source": [
    "# Slicing time series"
   ]
  },
  {
   "cell_type": "raw",
   "metadata": {},
   "source": [
    "## Slicing time series\n",
    "\n",
    "Slicing is particularly useful for time series, since it's a common thing to want to filter for data within a date range. Add the `date` column to the index, then use `.loc[]` to perform the subsetting. The important thing to remember is to keep your dates in ISO 8601 format, that is, `yyyy-mm-dd`.\n",
    "\n",
    "Recall from Chapter 1 that you can combine multiple Boolean conditions using logical operators (such as `&`). To do so in one line of code you'll need to add parentheses `()` around each condition.\n",
    "\n",
    "`pandas` is loaded as `pd` and `temperatures`, with no index, is available.\n",
    "\n",
    "<hr>\n",
    "\n",
    "**Instructions**\n",
    "\n",
    "* Use Boolean conditions (`not .isin() or .loc[]`) to subset for rows in 2010 and 2011, and print the results.\n",
    "    * *Note that because the date isn't set as an index, a condition that contains only a year, such as `df['date'] == '2009'`, will check if the date is equal to the first day of the first month of the year (e.g. `2009-01-01`), rather than checking whether the date occurs within the given year. We recommend writing out the full date when using Boolean conditions (e.g. `2009-12-31`)*.\n",
    "* Set the index to the `date` column.\n",
    "* Use `.loc[]` to subset for rows in 2010 and 2011.\n",
    "* Use `.loc[]` to subset for rows from Aug 2010 to Feb 2011.\n",
    "\n"
   ]
  },
  {
   "cell_type": "code",
   "execution_count": 186,
   "metadata": {},
   "outputs": [
    {
     "name": "stdout",
     "output_type": "stream",
     "text": [
      "Empty DataFrame\n",
      "Columns: [city, country, Temperature, Wind]\n",
      "Index: []\n"
     ]
    }
   ],
   "source": [
    "# # Use Boolean conditions to subset temperatures for rows in 2010 and 2011\n",
    "#temperatures_bool = temperatures[(temperatures['date'] >= '2010') & (temperatures['date'] <= '2012-03-30')]\n",
    "temperatures_bool = temperatures[(temperatures['date'] >= '2010')] \n",
    "#print(temperatures_bool)\n",
    "\n",
    "# # Set date as an index\n",
    "temperatures_ind = temperatures.set_index('date')\n",
    "temperatures_ind = temperatures.set_index('date').sort_index()\n",
    "#print(temperatures_ind )\n",
    "# # Use .loc[] to subset temperatures_ind for rows in 2010 and 2011\n",
    "#print(temperatures_ind.loc['2011':'2013'])\n",
    "\n",
    "# # Use .loc[] to subset temperatures_ind for rows from Aug 2010 to Feb 2011\n",
    "#print(temperatures_ind.loc[\"2010-08\":\"2011-02\"])\n"
   ]
  },
  {
   "cell_type": "markdown",
   "metadata": {},
   "source": [
    "# Subsetting by row/column number"
   ]
  },
  {
   "cell_type": "raw",
   "metadata": {},
   "source": [
    "## Subsetting by row/column number\n",
    "\n",
    "The most common ways to subset rows are the ways we've previously discussed: using a Boolean condition, or by index labels. However, it is also occasionally useful to pass row numbers.\n",
    "\n",
    "This is done using `.iloc[]`, and like `.loc[]`, it can take two arguments to let you subset by rows and columns.\n",
    "\n",
    "`pandas` is loaded as `pd`. `temperatures` (without an index) is available.\n",
    "\n",
    "<hr>\n",
    "\n",
    "**Instructions**\n",
    "\n",
    "Use `.iloc[]` on `temperatures` to take subsets.\n",
    "* Get the 23rd row, 2nd column (index positions 22 and 1).\n",
    "* Get the first 5 rows (index positions 0 to 5).\n",
    "* Get all rows, columns 3 and 4 (index positions 2 to 4).\n",
    "* Get the first 5 rows, columns 3 and 4.\n",
    "\n"
   ]
  },
  {
   "cell_type": "code",
   "execution_count": null,
   "metadata": {},
   "outputs": [],
   "source": [
    "# Get 23rd row, 2nd column (index 22, 1)\n",
    "print(temperatures.iloc[22,1])\n",
    "\n",
    "# Use slicing to get the first 5 rows\n",
    "print(temperatures.iloc[:5])\n",
    "\n",
    "# Use slicing to get columns 3 to 4\n",
    "print(temperatures.iloc[:, 2:4])\n",
    "\n",
    "# Use slicing in both directions at once\n",
    "print(temperatures.iloc[:5, 2:4])\n"
   ]
  },
  {
   "cell_type": "markdown",
   "metadata": {},
   "source": [
    "# Pivot temperature by city and year"
   ]
  },
  {
   "cell_type": "raw",
   "metadata": {},
   "source": [
    "## Pivot temperature by city and year\n",
    "\n",
    "It's interesting to see how temperatures for each city change over time. Looking at every month results in a big table, which can be tricky to reason about. Instead, let's look at how temperatures change by year.\n",
    "\n",
    "You can access the components of a date (year, month and day) using code of the form `dataframe[\"column\"].dt.component`. For example, the month component is `dataframe[\"column\"].dt.month`, and the year component is `dataframe[\"column\"].dt.year`.\n",
    "\n",
    "Once you have the year column, you can create a pivot table with the data aggregated by city and year, which you'll explore in the coming exercises.\n",
    "\n",
    "`pandas` is loaded as `pd`. `temperatures` is available.\n",
    "**Instructions**\n",
    "\n",
    "* Add a `year` column to `temperatures`, from the `year` component of the `date` column.\n",
    "* Make a pivot table of the `avg_temp_c` column, with `country` and `city` as rows, and year as columns. Assign to `temp_by_country_city_vs_year`, and *look at the result*.\n",
    "\n"
   ]
  },
  {
   "cell_type": "code",
   "execution_count": 188,
   "metadata": {},
   "outputs": [],
   "source": [
    "# # Add a year column to temperatures\n",
    "#temperatures[\"year\"] = temperatures[\"date\"].dt.year\n",
    "\n",
    "# # Pivot avg_temp_c by country and city vs year\n",
    "# temp_by_country_city_vs_year = temperatures.pivot_table(\"avg_temp_c\", index=[\"country\", \"city\"], columns=\"year\")\n",
    "\n",
    "# # See the result\n",
    "# print(temp_by_country_city_vs_year)\n"
   ]
  },
  {
   "cell_type": "markdown",
   "metadata": {},
   "source": [
    "# Subsetting pivot tables"
   ]
  },
  {
   "cell_type": "raw",
   "metadata": {},
   "source": [
    "## Subsetting pivot tables\n",
    "\n",
    "A pivot table is just a DataFrame with sorted indexes, so the techniques you have learned already can be used to subset them. In particular, the `.loc[]` + slicing combination is often helpful.\n",
    "\n",
    "`pandas` is loaded as `pd`. `temp_by_country_city_vs_year` is available.\n",
    "\n",
    "<hr>\n",
    "\n",
    "**Instructions**\n",
    "\n",
    "Use `.loc[]` on `temp_by_country_city_vs_year` to take subsets.\n",
    "* From Egypt to India.\n",
    "* From Egypt, Cairo to India, Delhi.\n",
    "* From Egypt, Cairo to India, Delhi and 2005 to 2010.\n"
   ]
  },
  {
   "cell_type": "code",
   "execution_count": 179,
   "metadata": {},
   "outputs": [],
   "source": [
    "# # Subset for Egypt to India\n",
    "# print(temp_by_country_city_vs_year.loc[\"Egypt\":\"India\"])\n",
    "\n",
    "# # Subset for Egypt, Cairo to India, Delhi\n",
    "# print(temp_by_country_city_vs_year.loc[(\"Egypt\",\"Cairo\"):(\"India\",\"Delhi\")])\n",
    "\n",
    "# # Subset in both directions at once\n",
    "# print(temp_by_country_city_vs_year.loc[(\"Egypt\",\"Cairo\"):(\"India\",\"Delhi\"), \"2005\":\"2010\"])\n"
   ]
  },
  {
   "cell_type": "markdown",
   "metadata": {},
   "source": [
    "# Calculating on a pivot table"
   ]
  },
  {
   "cell_type": "raw",
   "metadata": {},
   "source": [
    "Pivot tables are filled with summary statistics, but they are only a first step to finding something insightful. Often you'll need to perform further calculations on them. A common thing to do is to find the rows or columns where a highest or lowest value occurs.\n",
    "\n",
    "Recall from Chapter 1 that you can easily subset a Series or DataFrame to find rows of interest using a logical condition inside of square brackets. For example: `series[series > value]`.\n",
    "\n",
    "`pandas` is loaded as `pd` and the DataFrame `temp_by_country_city_vs_year` is available.\n",
    "\n",
    "<hr>\n",
    "\n",
    "**Instructions**\n",
    "* Calculate the mean temperature for each year, assigning to `mean_temp_by_year`.\n",
    "* Filter `mean_temp_by_year` for the year that had the highest mean temperature.\n",
    "* Calculate the mean temperature for each city (across columns), assigning to `mean_temp_by_city`.\n",
    "* Filter `mean_temp_by_city` for the city that had the lowest mean temperature.\n"
   ]
  },
  {
   "cell_type": "code",
   "execution_count": 180,
   "metadata": {},
   "outputs": [],
   "source": [
    "# # Get the worldwide mean temp by year\n",
    "# mean_temp_by_year = temp_by_country_city_vs_year.mean()\n",
    "\n",
    "# # Filter for the year that had the highest mean temp\n",
    "# print(mean_temp_by_year[mean_temp_by_year == mean_temp_by_year.max()])\n",
    "\n",
    "# # Get the mean temp by city\n",
    "# mean_temp_by_city = temp_by_country_city_vs_year.mean(axis=\"columns\")\n",
    "\n",
    "# # Filter for the city that had the lowest mean temp\n",
    "# print(mean_temp_by_city[mean_temp_by_city == mean_temp_by_city.min()])\n"
   ]
  },
  {
   "cell_type": "code",
   "execution_count": null,
   "metadata": {},
   "outputs": [],
   "source": []
  }
 ],
 "metadata": {
  "kernelspec": {
   "display_name": "Python 3",
   "language": "python",
   "name": "python3"
  },
  "language_info": {
   "codemirror_mode": {
    "name": "ipython",
    "version": 3
   },
   "file_extension": ".py",
   "mimetype": "text/x-python",
   "name": "python",
   "nbconvert_exporter": "python",
   "pygments_lexer": "ipython3",
   "version": "3.7.1"
  }
 },
 "nbformat": 4,
 "nbformat_minor": 2
}
