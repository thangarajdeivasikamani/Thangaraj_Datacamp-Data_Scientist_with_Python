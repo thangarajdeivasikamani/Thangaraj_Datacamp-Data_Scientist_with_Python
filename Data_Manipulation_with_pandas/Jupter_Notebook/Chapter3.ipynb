{
 "cells": [
  {
   "cell_type": "code",
   "execution_count": 37,
   "metadata": {},
   "outputs": [
    {
     "data": {
      "text/html": [
       "<div>\n",
       "<style scoped>\n",
       "    .dataframe tbody tr th:only-of-type {\n",
       "        vertical-align: middle;\n",
       "    }\n",
       "\n",
       "    .dataframe tbody tr th {\n",
       "        vertical-align: top;\n",
       "    }\n",
       "\n",
       "    .dataframe thead th {\n",
       "        text-align: right;\n",
       "    }\n",
       "</style>\n",
       "<table border=\"1\" class=\"dataframe\">\n",
       "  <thead>\n",
       "    <tr style=\"text-align: right;\">\n",
       "      <th></th>\n",
       "      <th>City_citipy</th>\n",
       "      <th>Country_code_citipy</th>\n",
       "      <th>Country_Name_ISO</th>\n",
       "      <th>City_ID</th>\n",
       "      <th>city</th>\n",
       "      <th>country</th>\n",
       "      <th>Longitude</th>\n",
       "      <th>Latitude</th>\n",
       "      <th>Temperature</th>\n",
       "      <th>Humidity</th>\n",
       "      <th>Wind</th>\n",
       "      <th>Clouds</th>\n",
       "    </tr>\n",
       "  </thead>\n",
       "  <tbody>\n",
       "    <tr>\n",
       "      <th>0</th>\n",
       "      <td>Yerky</td>\n",
       "      <td>UA</td>\n",
       "      <td>Ukraine</td>\n",
       "      <td>701075</td>\n",
       "      <td>Yerky</td>\n",
       "      <td>UA</td>\n",
       "      <td>33.53</td>\n",
       "      <td>49.93</td>\n",
       "      <td>-1.86</td>\n",
       "      <td>94</td>\n",
       "      <td>3.47</td>\n",
       "      <td>92</td>\n",
       "    </tr>\n",
       "    <tr>\n",
       "      <th>1</th>\n",
       "      <td>Caconda</td>\n",
       "      <td>AO</td>\n",
       "      <td>Angola</td>\n",
       "      <td>3351380</td>\n",
       "      <td>Caconda</td>\n",
       "      <td>AO</td>\n",
       "      <td>15.06</td>\n",
       "      <td>-13.73</td>\n",
       "      <td>26.15</td>\n",
       "      <td>35</td>\n",
       "      <td>1.22</td>\n",
       "      <td>92</td>\n",
       "    </tr>\n",
       "    <tr>\n",
       "      <th>2</th>\n",
       "      <td>Diamantino</td>\n",
       "      <td>BR</td>\n",
       "      <td>Brazil</td>\n",
       "      <td>3464724</td>\n",
       "      <td>Diamantino</td>\n",
       "      <td>BR</td>\n",
       "      <td>-56.44</td>\n",
       "      <td>-14.40</td>\n",
       "      <td>29.40</td>\n",
       "      <td>74</td>\n",
       "      <td>2.12</td>\n",
       "      <td>68</td>\n",
       "    </tr>\n",
       "    <tr>\n",
       "      <th>3</th>\n",
       "      <td>Huarmey</td>\n",
       "      <td>PE</td>\n",
       "      <td>Peru</td>\n",
       "      <td>3939168</td>\n",
       "      <td>Huarmey</td>\n",
       "      <td>PE</td>\n",
       "      <td>-78.15</td>\n",
       "      <td>-10.07</td>\n",
       "      <td>21.60</td>\n",
       "      <td>81</td>\n",
       "      <td>1.62</td>\n",
       "      <td>92</td>\n",
       "    </tr>\n",
       "    <tr>\n",
       "      <th>4</th>\n",
       "      <td>Abha</td>\n",
       "      <td>SA</td>\n",
       "      <td>Saudi arabia</td>\n",
       "      <td>110690</td>\n",
       "      <td>Abha</td>\n",
       "      <td>SA</td>\n",
       "      <td>42.50</td>\n",
       "      <td>18.22</td>\n",
       "      <td>14.03</td>\n",
       "      <td>100</td>\n",
       "      <td>0.22</td>\n",
       "      <td>0</td>\n",
       "    </tr>\n",
       "  </tbody>\n",
       "</table>\n",
       "</div>"
      ],
      "text/plain": [
       "  City_citipy Country_code_citipy Country_Name_ISO  City_ID        city  \\\n",
       "0       Yerky                  UA          Ukraine   701075       Yerky   \n",
       "1     Caconda                  AO           Angola  3351380     Caconda   \n",
       "2  Diamantino                  BR           Brazil  3464724  Diamantino   \n",
       "3     Huarmey                  PE             Peru  3939168     Huarmey   \n",
       "4        Abha                  SA     Saudi arabia   110690        Abha   \n",
       "\n",
       "  country  Longitude  Latitude  Temperature  Humidity  Wind  Clouds  \n",
       "0      UA      33.53     49.93        -1.86        94  3.47      92  \n",
       "1      AO      15.06    -13.73        26.15        35  1.22      92  \n",
       "2      BR     -56.44    -14.40        29.40        74  2.12      68  \n",
       "3      PE     -78.15    -10.07        21.60        81  1.62      92  \n",
       "4      SA      42.50     18.22        14.03       100  0.22       0  "
      ]
     },
     "execution_count": 37,
     "metadata": {},
     "output_type": "execute_result"
    }
   ],
   "source": [
    "import pandas as pd\n",
    "temperature_file= r'C:\\Machinelearning\\datacamp\\Thangaraj_Datacamp-Data_Scientist_with_Python\\Data_Manipulation_with_pandas\\Datasets\\weather_data.csv'\n",
    "temperatures = pd.read_csv(temperature_file)\n",
    "temperatures.head()"
   ]
  },
  {
   "cell_type": "markdown",
   "metadata": {},
   "source": [
    "# Setting & removing indexes"
   ]
  },
  {
   "cell_type": "raw",
   "metadata": {},
   "source": [
    "## Setting & removing indexes\n",
    "\n",
    "pandas allows you to designate columns as an index. This enables cleaner code when taking subsets (as well as providing more efficient lookup under some circumstances).\n",
    "\n",
    "In this chapter, you'll be exploring `temperatures`, a DataFrame of average temperatures in cities around the world. `pandas` is loaded as `pd`.\n",
    "\n",
    "<hr>\n",
    "\n",
    "**Instructions**\n",
    "\n",
    "* *Look at `temperatures`*.\n",
    "* Set the index of `temperatures` to `\"city\"`, assigning to `temperatures_ind`.\n",
    "* *Look at `temperatures_ind`. How is it different from `temperatures`?*\n",
    "* Reset the index of `temperatures_ind`, keeping its contents.\n",
    "* Reset the index of `temperatures_ind`, dropping its contents.\n",
    "\n"
   ]
  },
  {
   "cell_type": "code",
   "execution_count": 38,
   "metadata": {},
   "outputs": [
    {
     "name": "stdout",
     "output_type": "stream",
     "text": [
      "  City_citipy Country_code_citipy Country_Name_ISO  City_ID        city  \\\n",
      "0       Yerky                  UA          Ukraine   701075       Yerky   \n",
      "1     Caconda                  AO           Angola  3351380     Caconda   \n",
      "2  Diamantino                  BR           Brazil  3464724  Diamantino   \n",
      "3     Huarmey                  PE             Peru  3939168     Huarmey   \n",
      "4        Abha                  SA     Saudi arabia   110690        Abha   \n",
      "\n",
      "  country  Longitude  Latitude  Temperature  Humidity  Wind  Clouds  \n",
      "0      UA      33.53     49.93        -1.86        94  3.47      92  \n",
      "1      AO      15.06    -13.73        26.15        35  1.22      92  \n",
      "2      BR     -56.44    -14.40        29.40        74  2.12      68  \n",
      "3      PE     -78.15    -10.07        21.60        81  1.62      92  \n",
      "4      SA      42.50     18.22        14.03       100  0.22       0  \n"
     ]
    }
   ],
   "source": [
    "# Look at temperatures\n",
    "print(temperatures.head())\n",
    "\n",
    "\n",
    "\n"
   ]
  },
  {
   "cell_type": "code",
   "execution_count": 39,
   "metadata": {},
   "outputs": [],
   "source": [
    "# Index temperatures by city\n",
    "temperatures_ind = temperatures.set_index(\"city\")"
   ]
  },
  {
   "cell_type": "code",
   "execution_count": 46,
   "metadata": {},
   "outputs": [],
   "source": [
    "# Look at temperatures_ind\n",
    "#print(temperatures_ind.head())  \n"
   ]
  },
  {
   "cell_type": "code",
   "execution_count": 47,
   "metadata": {},
   "outputs": [],
   "source": [
    "# Reset the index, keeping its contents\n",
    "#print(temperatures_ind.reset_index())  # Here city will be moved as zero index and will display like sepearte column"
   ]
  },
  {
   "cell_type": "code",
   "execution_count": 49,
   "metadata": {},
   "outputs": [],
   "source": [
    "# Reset the index, dropping its contents\n",
    "#print(temperatures_ind.reset_index(drop=True))# City will be removed from column"
   ]
  },
  {
   "cell_type": "markdown",
   "metadata": {},
   "source": [
    "# Subsetting with .loc[]"
   ]
  },
  {
   "cell_type": "raw",
   "metadata": {},
   "source": [
    "## Subsetting with .loc[]\n",
    "\n",
    "The killer feature for indexes is `.loc[]`: a subsetting method that accepts index values. When you pass it a single argument, it will take a subset of rows.\n",
    "\n",
    "The code for subsetting using `.loc[]` can be easier to read than standard square bracket subsetting, which can make your code less burdensome to maintain.\n",
    "\n",
    "`pandas` is loaded as `pd`. `temperatures` and `temperatures_ind` are available; the latter is indexed by `city`.\n",
    "\n",
    "<hr>\n",
    "\n",
    "**Instructions**\n",
    "\n",
    "* Create a list of cities to subset on: Moscow and Saint Petersburg. Assign to `cities`.\n",
    "* Use `[]` subsetting to filter `temperatures` for rows where the city column takes a value in `cities`.\n",
    "* Use `.loc[]` subsetting to filter temperatures_ind for rows where the city is in `cities`.\n"
   ]
  },
  {
   "cell_type": "code",
   "execution_count": 43,
   "metadata": {},
   "outputs": [
    {
     "name": "stdout",
     "output_type": "stream",
     "text": [
      "  City_citipy Country_code_citipy Country_Name_ISO  City_ID     city country  \\\n",
      "0       Yerky                  UA          Ukraine   701075    Yerky      UA   \n",
      "1     Caconda                  AO           Angola  3351380  Caconda      AO   \n",
      "\n",
      "   Longitude  Latitude  Temperature  Humidity  Wind  Clouds  \n",
      "0      33.53     49.93        -1.86        94  3.47      92  \n",
      "1      15.06    -13.73        26.15        35  1.22      92  \n",
      "-----------------------------------------\n",
      "        City_citipy Country_code_citipy Country_Name_ISO  City_ID country  \\\n",
      "city                                                                        \n",
      "Yerky         Yerky                  UA          Ukraine   701075      UA   \n",
      "Caconda     Caconda                  AO           Angola  3351380      AO   \n",
      "\n",
      "         Longitude  Latitude  Temperature  Humidity  Wind  Clouds  \n",
      "city                                                               \n",
      "Yerky        33.53     49.93        -1.86        94  3.47      92  \n",
      "Caconda      15.06    -13.73        26.15        35  1.22      92  \n"
     ]
    }
   ],
   "source": [
    "# Make a list of cities to subset on\n",
    "cities = [\"Yerky\", \"Caconda\"]\n",
    "\n",
    "# Subset temperatures using square brackets\n",
    "print(temperatures[temperatures[\"city\"].isin(cities)])\n",
    "print('-----------------------------------------')\n",
    "# Subset temperatures_ind using .loc[]\n",
    "print(temperatures_ind.loc[cities])"
   ]
  },
  {
   "cell_type": "markdown",
   "metadata": {},
   "source": [
    "# Setting multi-level indexes"
   ]
  },
  {
   "cell_type": "raw",
   "metadata": {},
   "source": [
    "## Setting multi-level indexes\n",
    "\n",
    "Indexes can also be made out of multiple columns, forming a *multi-level index* (sometimes called a *hierarchical index*). There is a trade-off to using these.\n",
    "\n",
    "The benefit is that multi-level indexes make it more natural to reason about nested categorical variables. For example, in a clinical trial you might have control and treatment groups. Then each test subject belongs to one or other group, and we can say that test subject is nested inside treatment group. Similarly, in the temperature dataset, the city is located in the country, so we can say city is nested inside country.\n",
    "\n",
    "The main downside is that the code for manipulating indexes is different to the code for the manipulating columns, so you have to learn two syntaxes, and keep track of how your data is represented.\n",
    "\n",
    "`pandas` is loaded as `pd`. `temperatures` is available.\n",
    "\n",
    "<hr>\n",
    "\n",
    "**Instructions**\n",
    "\n",
    "* Set the index of `temperatures` to the `\"country\"` and `\"city\"` columns, assigning to `temperatures_ind`.\n",
    "* Specify two country/city pairs to keep: `\"Brazil\"`/`\"Rio De Janeiro\"` and `\"Pakistan\"`/`\"Lahore\"`, assigning to `rows_to_keep`.\n",
    "* Subset for `rows_to_keep` using `.loc[]`.\n"
   ]
  },
  {
   "cell_type": "code",
   "execution_count": 44,
   "metadata": {},
   "outputs": [
    {
     "name": "stdout",
     "output_type": "stream",
     "text": [
      "                City_citipy Country_code_citipy Country_Name_ISO  City_ID  \\\n",
      "country city                                                                \n",
      "UA      Yerky         Yerky                  UA          Ukraine   701075   \n",
      "AO      Caconda     Caconda                  AO           Angola  3351380   \n",
      "\n",
      "                 Longitude  Latitude  Temperature  Humidity  Wind  Clouds  \n",
      "country city                                                               \n",
      "UA      Yerky        33.53     49.93        -1.86        94  3.47      92  \n",
      "AO      Caconda      15.06    -13.73        26.15        35  1.22      92  \n"
     ]
    }
   ],
   "source": [
    "# Index temperatures by country & city\n",
    "temperatures_ind = temperatures.set_index([\"country\", \"city\"])\n",
    "#print(temperatures_ind)\n",
    "# List of tuples: Brazil, Rio De Janeiro & Pakistan, Lahore\n",
    "rows_to_keep = [(\"UA\", \"Yerky\"), (\"AO\", \"Caconda\")]\n",
    "\n",
    "# Subset for rows to keep\n",
    "print(temperatures_ind.loc[rows_to_keep])"
   ]
  },
  {
   "cell_type": "markdown",
   "metadata": {},
   "source": [
    "# Sorting by index values"
   ]
  },
  {
   "cell_type": "raw",
   "metadata": {},
   "source": [
    "## Sorting by index values\n",
    "\n",
    "Previously, you changed the order of the rows in a DataFrame by calling `.sort_values()`. It's also useful to be able to sort by elements in the index. For this, you need to use `.sort_index()`.\n",
    "\n",
    "`pandas` is loaded as `pd`. `temperatures_ind` has a multi-level index of country and `city`, and is available.\n",
    "\n",
    "<hr>\n",
    "\n",
    "**Instructions**\n",
    "\n",
    "* Sort `temperatures_ind` by the index values.\n",
    "* Sort `temperatures_ind` by the index values at the `\"city\"` level.\n",
    "* Sort `temperatures_ind` by ascending country then descending city.\n"
   ]
  },
  {
   "cell_type": "code",
   "execution_count": 45,
   "metadata": {},
   "outputs": [],
   "source": [
    "# Sort temperatures_ind by index values\n",
    "#print(temperatures_ind.sort_index())\n",
    "\n",
    "# Sort temperatures_ind by index values at the city level\n",
    "#print(temperatures_ind.sort_index(level=\"city\"))\n",
    "\n",
    "# Sort temperatures_ind by country then descending city\n",
    "#print(temperatures_ind.sort_index(level=[\"country\", \"city\"], ascending=[True, False]))"
   ]
  },
  {
   "cell_type": "markdown",
   "metadata": {},
   "source": [
    "# Slicing lists"
   ]
  },
  {
   "cell_type": "code",
   "execution_count": 50,
   "metadata": {},
   "outputs": [],
   "source": [
    "breeds = [\"Labrador\", \"Poodle\",\n",
    "\"Chow Chow\", \"Schnauzer\",\n",
    "\"Labrador\", \"Chihuahua\",\n",
    "\"St. Bernard\"]"
   ]
  },
  {
   "cell_type": "code",
   "execution_count": 51,
   "metadata": {},
   "outputs": [
    {
     "data": {
      "text/plain": [
       "['Chow Chow', 'Schnauzer', 'Labrador']"
      ]
     },
     "execution_count": 51,
     "metadata": {},
     "output_type": "execute_result"
    }
   ],
   "source": [
    "breeds[2:5]"
   ]
  },
  {
   "cell_type": "code",
   "execution_count": 52,
   "metadata": {},
   "outputs": [
    {
     "data": {
      "text/plain": [
       "['Labrador', 'Poodle', 'Chow Chow']"
      ]
     },
     "execution_count": 52,
     "metadata": {},
     "output_type": "execute_result"
    }
   ],
   "source": [
    "breeds[:3]"
   ]
  },
  {
   "cell_type": "code",
   "execution_count": 53,
   "metadata": {},
   "outputs": [
    {
     "data": {
      "text/plain": [
       "['Labrador',\n",
       " 'Poodle',\n",
       " 'Chow Chow',\n",
       " 'Schnauzer',\n",
       " 'Labrador',\n",
       " 'Chihuahua',\n",
       " 'St. Bernard']"
      ]
     },
     "execution_count": 53,
     "metadata": {},
     "output_type": "execute_result"
    }
   ],
   "source": [
    "breeds[:]"
   ]
  },
  {
   "cell_type": "markdown",
   "metadata": {},
   "source": [
    "# Slicing the dataframe"
   ]
  },
  {
   "cell_type": "markdown",
   "metadata": {},
   "source": [
    "# Slicing index values\n"
   ]
  },
  {
   "cell_type": "raw",
   "metadata": {},
   "source": [
    "## Slicing index values\n",
    "\n",
    "Slicing lets you select consecutive elements of an object using `first:last` syntax. DataFrames can be sliced by index values, or by row/column number; we'll start with the first case. This involves slicing inside the `.loc[]` method.\n",
    "\n",
    "Compared to slicing lists, there are a few things to remember.\n",
    "\n",
    "* You can only slice an index if the index is sorted (using `.sort_index()`).\n",
    "* To slice at the outer level, `first` and `last` can be strings.\n",
    "* To slice at inner levels, `first` and `last` should be tuples.\n",
    "* If you pass a single slice to `.loc[]`, it will slice the rows.\n",
    "\n",
    "`pandas` is loaded as `pd`. `temperatures_ind` has country and city in the index, and is available.\n",
    "\n",
    "<hr>\n",
    "\n",
    "**Instructions**\n",
    "* Sort the index of `temperatures_ind`.\n",
    "* Use slicing with `.loc[]` to get these subsets:\n",
    "    * from Pakistan to Russia.\n",
    "    * from Lahore to Moscow. (*This will return nonsense.*)\n",
    "    * from Pakistan, Lahore to Russia, Moscow.\n"
   ]
  },
  {
   "cell_type": "code",
   "execution_count": 66,
   "metadata": {},
   "outputs": [],
   "source": [
    "# Index temperatures by country & city\n",
    "temperatures_ind = temperatures.set_index([\"country\", \"city\"])"
   ]
  },
  {
   "cell_type": "code",
   "execution_count": 76,
   "metadata": {},
   "outputs": [],
   "source": [
    "# Sort the index of temperatures_ind\n",
    "temperatures_srt = temperatures_ind.sort_index() # Here the dataframe has multi index example country & city\n",
    "#print(temperatures_srt)\n",
    "# Subset rows from Pakistan to Russia  # Here we are using outer layer for subset\n",
    "#print(temperatures_srt.loc[\"Pakistan\":\"Russia\"])\n",
    "#print(temperatures_srt.loc[\"AF\":\"AL\"])\n",
    "# Try to subset rows from Lahore to Moscow\n",
    "#print(temperatures_srt.loc[\"Lahore\":\"Moscow\"])\n",
    "#print(temperatures_srt.loc[\"Rudbar\":\"Roskovec\"])\n",
    "\n",
    "# Subset rows from Pakistan, Lahore to Russia, Moscow\n",
    "#print(temperatures_srt.loc[(\"Pakistan\",\"Lahore\"):(\"Russia\",\"Moscow\")])\n",
    "#print(temperatures_srt.loc[(\"AF\",\"Rudbar\"):(\"AL\",\"Roskovec\")])"
   ]
  },
  {
   "cell_type": "markdown",
   "metadata": {},
   "source": [
    "# Slicing in both directions"
   ]
  },
  {
   "cell_type": "raw",
   "metadata": {},
   "source": [
    "## Slicing in both directions\n",
    "\n",
    "You've seen slicing DataFrames by rows and by columns, but since DataFrames are two dimensional objects it is often natural to slice both dimensions at once. That is, by passing two arguments to `.loc[]`, you can subset by rows and columns in one go.\n",
    "\n",
    "`pandas` is loaded as `pd`. `temperatures_srt` is indexed by country and city, has a sorted index, and is available.\n",
    "\n",
    "<hr>\n",
    "\n",
    "**Instructions**\n",
    "* Use `.loc[]` slicing to subset rows from India, Hyderabad to Iraq, Baghdad.\n",
    "* Use `.loc[]` slicing to subset columns from `date` to `avg_temp_c`.\n",
    "* Slice in both directions at once from Hyderabad to Baghdad, and `date` to `avg_temp_c`.\n",
    "\n"
   ]
  },
  {
   "cell_type": "code",
   "execution_count": 77,
   "metadata": {},
   "outputs": [],
   "source": [
    "# # Subset rows from India, Hyderabad to Iraq, Baghdad  # Multi row combination\n",
    "# print(temperatures_srt.loc[(\"India\", \"Hyderabad\"):(\"Iraq\",\"Baghdad\")])\n",
    "\n",
    "# # Subset columns from date to avg_temp_c\n",
    "# print(temperatures_srt.loc[:, \"date\":\"avg_temp_c\"])\n",
    "\n",
    "# # Subset in both directions at once  # Here first set row range ,Date and avf time is column range\n",
    "# print(temperatures_srt.loc[(\"India\", \"Hyderabad\"):(\"Iraq\",\"Baghdad\"), \"date\":\"avg_temp_c\"])\n"
   ]
  },
  {
   "cell_type": "markdown",
   "metadata": {},
   "source": [
    "# Slicing time series"
   ]
  },
  {
   "cell_type": "raw",
   "metadata": {},
   "source": [
    "## Slicing time series\n",
    "\n",
    "Slicing is particularly useful for time series, since it's a common thing to want to filter for data within a date range. Add the `date` column to the index, then use `.loc[]` to perform the subsetting. The important thing to remember is to keep your dates in ISO 8601 format, that is, `yyyy-mm-dd`.\n",
    "\n",
    "Recall from Chapter 1 that you can combine multiple Boolean conditions using logical operators (such as `&`). To do so in one line of code you'll need to add parentheses `()` around each condition.\n",
    "\n",
    "`pandas` is loaded as `pd` and `temperatures`, with no index, is available.\n",
    "\n",
    "<hr>\n",
    "\n",
    "**Instructions**\n",
    "\n",
    "* Use Boolean conditions (`not .isin() or .loc[]`) to subset for rows in 2010 and 2011, and print the results.\n",
    "    * *Note that because the date isn't set as an index, a condition that contains only a year, such as `df['date'] == '2009'`, will check if the date is equal to the first day of the first month of the year (e.g. `2009-01-01`), rather than checking whether the date occurs within the given year. We recommend writing out the full date when using Boolean conditions (e.g. `2009-12-31`)*.\n",
    "* Set the index to the `date` column.\n",
    "* Use `.loc[]` to subset for rows in 2010 and 2011.\n",
    "* Use `.loc[]` to subset for rows from Aug 2010 to Feb 2011.\n",
    "\n"
   ]
  },
  {
   "cell_type": "code",
   "execution_count": 79,
   "metadata": {},
   "outputs": [],
   "source": [
    "# # Use Boolean conditions to subset temperatures for rows in 2010 and 2011\n",
    "# temperatures_bool = temperatures[(temperatures['date'] >= '2010') & (temperatures['date'] <= '2011-12-31')]\n",
    "# print(temperatures_bool)\n",
    "\n",
    "# # Set date as an index\n",
    "# temperatures_ind = temperatures.set_index('date')\n",
    "\n",
    "# # Use .loc[] to subset temperatures_ind for rows in 2010 and 2011\n",
    "# print(temperatures_ind.loc['2010':'2011'])\n",
    "\n",
    "# # Use .loc[] to subset temperatures_ind for rows from Aug 2010 to Feb 2011\n",
    "# print(temperatures_ind.loc[\"2010-08\":\"2011-02\"])\n"
   ]
  },
  {
   "cell_type": "markdown",
   "metadata": {},
   "source": [
    "# Subsetting by row/column number"
   ]
  },
  {
   "cell_type": "raw",
   "metadata": {},
   "source": [
    "## Subsetting by row/column number\n",
    "\n",
    "The most common ways to subset rows are the ways we've previously discussed: using a Boolean condition, or by index labels. However, it is also occasionally useful to pass row numbers.\n",
    "\n",
    "This is done using `.iloc[]`, and like `.loc[]`, it can take two arguments to let you subset by rows and columns.\n",
    "\n",
    "`pandas` is loaded as `pd`. `temperatures` (without an index) is available.\n",
    "\n",
    "<hr>\n",
    "\n",
    "**Instructions**\n",
    "\n",
    "Use `.iloc[]` on `temperatures` to take subsets.\n",
    "* Get the 23rd row, 2nd column (index positions 22 and 1).\n",
    "* Get the first 5 rows (index positions 0 to 5).\n",
    "* Get all rows, columns 3 and 4 (index positions 2 to 4).\n",
    "* Get the first 5 rows, columns 3 and 4.\n",
    "\n"
   ]
  },
  {
   "cell_type": "code",
   "execution_count": 80,
   "metadata": {},
   "outputs": [
    {
     "name": "stdout",
     "output_type": "stream",
     "text": [
      "AR\n",
      "  City_citipy Country_code_citipy Country_Name_ISO  City_ID        city  \\\n",
      "0       Yerky                  UA          Ukraine   701075       Yerky   \n",
      "1     Caconda                  AO           Angola  3351380     Caconda   \n",
      "2  Diamantino                  BR           Brazil  3464724  Diamantino   \n",
      "3     Huarmey                  PE             Peru  3939168     Huarmey   \n",
      "4        Abha                  SA     Saudi arabia   110690        Abha   \n",
      "\n",
      "  country  Longitude  Latitude  Temperature  Humidity  Wind  Clouds  \n",
      "0      UA      33.53     49.93        -1.86        94  3.47      92  \n",
      "1      AO      15.06    -13.73        26.15        35  1.22      92  \n",
      "2      BR     -56.44    -14.40        29.40        74  2.12      68  \n",
      "3      PE     -78.15    -10.07        21.60        81  1.62      92  \n",
      "4      SA      42.50     18.22        14.03       100  0.22       0  \n",
      "                                       Country_Name_ISO  City_ID\n",
      "0                                               Ukraine   701075\n",
      "1                                                Angola  3351380\n",
      "2                                                Brazil  3464724\n",
      "3                                                  Peru  3939168\n",
      "4                                          Saudi arabia   110690\n",
      "5                                                Canada  5975503\n",
      "6                                    Russian federation  2122090\n",
      "7                                                 Japan  1862505\n",
      "8                                              Colombia  3671540\n",
      "9          Saint helena, ascension and tristan da cunha  3370903\n",
      "10                                                Spain  3129135\n",
      "11                                                Chile  3893726\n",
      "12                                               Mexico  3527113\n",
      "13                                        Faroe islands  2618795\n",
      "14                             United states of america  4732862\n",
      "15                                          Philippines  1729469\n",
      "16                                   Russian federation  2015179\n",
      "17                                            Indonesia  1636426\n",
      "18                                                India  1258178\n",
      "19                             United states of america  4898182\n",
      "20                                            Australia  2065594\n",
      "21                                               Canada  6112862\n",
      "22                                            Argentina  3835994\n",
      "23                                     French polynesia  4030556\n",
      "24                                               Canada  5895424\n",
      "25                                            Greenland  3421319\n",
      "26                                         Turkmenistan   161616\n",
      "27                                            Australia  2173911\n",
      "28                                             Paraguay  3437136\n",
      "29                                            Australia  2155415\n",
      "...                                                 ...      ...\n",
      "994                                             Namibia  3354071\n",
      "995                                         New zealand  2206939\n",
      "996                                           Argentina  3855065\n",
      "997                                            Ethiopia   335035\n",
      "998                                          Kazakhstan   608872\n",
      "999                                  Russian federation   504269\n",
      "1000                                 Russian federation  1540356\n",
      "1001                                              Libya    86049\n",
      "1002                                          Australia  2177541\n",
      "1003                                         Cabo verde  3374218\n",
      "1004                                            Bermuda  3573061\n",
      "1005                                          Indonesia  1648759\n",
      "1006                           United states of america  5686121\n",
      "1007                                              India  1279344\n",
      "1008                                             Angola  2239862\n",
      "1009                                               Cuba  3542455\n",
      "1010                           United states of america  5692947\n",
      "1011                                            Ukraine   693468\n",
      "1012                                   Papua new guinea  2090021\n",
      "1013                                             Brazil  3401545\n",
      "1014                                 Russian federation   569170\n",
      "1015                                           Portugal  2264923\n",
      "1016                           United states of america  4792494\n",
      "1017                                          Australia  2151437\n",
      "1018  United kingdom of great britain and northern i...  2649784\n",
      "1019                                       South africa  3369157\n",
      "1020                                 Russian federation  2123836\n",
      "1021                                             Canada  6071421\n",
      "1022                                          Indonesia  1623197\n",
      "1023                                         Madagascar  1082243\n",
      "\n",
      "[1024 rows x 2 columns]\n",
      "  Country_Name_ISO  City_ID\n",
      "0          Ukraine   701075\n",
      "1           Angola  3351380\n",
      "2           Brazil  3464724\n",
      "3             Peru  3939168\n",
      "4     Saudi arabia   110690\n"
     ]
    }
   ],
   "source": [
    "# Get 23rd row, 2nd column (index 22, 1)\n",
    "print(temperatures.iloc[22,1])\n",
    "\n",
    "# Use slicing to get the first 5 rows\n",
    "print(temperatures.iloc[:5])\n",
    "\n",
    "# Use slicing to get columns 3 to 4\n",
    "print(temperatures.iloc[:, 2:4])\n",
    "\n",
    "# Use slicing in both directions at once\n",
    "print(temperatures.iloc[:5, 2:4])\n"
   ]
  },
  {
   "cell_type": "markdown",
   "metadata": {},
   "source": [
    "# Pivot temperature by city and year"
   ]
  },
  {
   "cell_type": "raw",
   "metadata": {},
   "source": [
    "## Pivot temperature by city and year\n",
    "\n",
    "It's interesting to see how temperatures for each city change over time. Looking at every month results in a big table, which can be tricky to reason about. Instead, let's look at how temperatures change by year.\n",
    "\n",
    "You can access the components of a date (year, month and day) using code of the form `dataframe[\"column\"].dt.component`. For example, the month component is `dataframe[\"column\"].dt.month`, and the year component is `dataframe[\"column\"].dt.year`.\n",
    "\n",
    "Once you have the year column, you can create a pivot table with the data aggregated by city and year, which you'll explore in the coming exercises.\n",
    "\n",
    "`pandas` is loaded as `pd`. `temperatures` is available.\n",
    "**Instructions**\n",
    "\n",
    "* Add a `year` column to `temperatures`, from the `year` component of the `date` column.\n",
    "* Make a pivot table of the `avg_temp_c` column, with `country` and `city` as rows, and year as columns. Assign to `temp_by_country_city_vs_year`, and *look at the result*.\n",
    "\n"
   ]
  },
  {
   "cell_type": "code",
   "execution_count": 83,
   "metadata": {},
   "outputs": [],
   "source": [
    "# # Add a year column to temperatures\n",
    "# temperatures[\"year\"] = temperatures[\"date\"].dt.year\n",
    "\n",
    "# # Pivot avg_temp_c by country and city vs year\n",
    "# temp_by_country_city_vs_year = temperatures.pivot_table(\"avg_temp_c\", index=[\"country\", \"city\"], columns=\"year\")\n",
    "\n",
    "# # See the result\n",
    "# print(temp_by_country_city_vs_year)\n"
   ]
  },
  {
   "cell_type": "markdown",
   "metadata": {},
   "source": [
    "# Subsetting pivot tables"
   ]
  },
  {
   "cell_type": "raw",
   "metadata": {},
   "source": [
    "## Subsetting pivot tables\n",
    "\n",
    "A pivot table is just a DataFrame with sorted indexes, so the techniques you have learned already can be used to subset them. In particular, the `.loc[]` + slicing combination is often helpful.\n",
    "\n",
    "`pandas` is loaded as `pd`. `temp_by_country_city_vs_year` is available.\n",
    "\n",
    "<hr>\n",
    "\n",
    "**Instructions**\n",
    "\n",
    "Use `.loc[]` on `temp_by_country_city_vs_year` to take subsets.\n",
    "* From Egypt to India.\n",
    "* From Egypt, Cairo to India, Delhi.\n",
    "* From Egypt, Cairo to India, Delhi and 2005 to 2010.\n"
   ]
  },
  {
   "cell_type": "code",
   "execution_count": 85,
   "metadata": {},
   "outputs": [],
   "source": [
    "# # Subset for Egypt to India\n",
    "# print(temp_by_country_city_vs_year.loc[\"Egypt\":\"India\"])\n",
    "\n",
    "# # Subset for Egypt, Cairo to India, Delhi\n",
    "# print(temp_by_country_city_vs_year.loc[(\"Egypt\",\"Cairo\"):(\"India\",\"Delhi\")])\n",
    "\n",
    "# # Subset in both directions at once\n",
    "# print(temp_by_country_city_vs_year.loc[(\"Egypt\",\"Cairo\"):(\"India\",\"Delhi\"), \"2005\":\"2010\"])\n"
   ]
  },
  {
   "cell_type": "markdown",
   "metadata": {},
   "source": [
    "# Calculating on a pivot table"
   ]
  },
  {
   "cell_type": "raw",
   "metadata": {},
   "source": [
    "Pivot tables are filled with summary statistics, but they are only a first step to finding something insightful. Often you'll need to perform further calculations on them. A common thing to do is to find the rows or columns where a highest or lowest value occurs.\n",
    "\n",
    "Recall from Chapter 1 that you can easily subset a Series or DataFrame to find rows of interest using a logical condition inside of square brackets. For example: `series[series > value]`.\n",
    "\n",
    "`pandas` is loaded as `pd` and the DataFrame `temp_by_country_city_vs_year` is available.\n",
    "\n",
    "<hr>\n",
    "\n",
    "**Instructions**\n",
    "* Calculate the mean temperature for each year, assigning to `mean_temp_by_year`.\n",
    "* Filter `mean_temp_by_year` for the year that had the highest mean temperature.\n",
    "* Calculate the mean temperature for each city (across columns), assigning to `mean_temp_by_city`.\n",
    "* Filter `mean_temp_by_city` for the city that had the lowest mean temperature.\n"
   ]
  },
  {
   "cell_type": "code",
   "execution_count": 88,
   "metadata": {},
   "outputs": [],
   "source": [
    "# # Get the worldwide mean temp by year\n",
    "# mean_temp_by_year = temp_by_country_city_vs_year.mean()\n",
    "\n",
    "# # Filter for the year that had the highest mean temp\n",
    "# print(mean_temp_by_year[mean_temp_by_year == mean_temp_by_year.max()])\n",
    "\n",
    "# # Get the mean temp by city\n",
    "# mean_temp_by_city = temp_by_country_city_vs_year.mean(axis=\"columns\")\n",
    "\n",
    "# # Filter for the city that had the lowest mean temp\n",
    "# print(mean_temp_by_city[mean_temp_by_city == mean_temp_by_city.min()])\n"
   ]
  },
  {
   "cell_type": "code",
   "execution_count": null,
   "metadata": {},
   "outputs": [],
   "source": []
  }
 ],
 "metadata": {
  "kernelspec": {
   "display_name": "Python 3",
   "language": "python",
   "name": "python3"
  },
  "language_info": {
   "codemirror_mode": {
    "name": "ipython",
    "version": 3
   },
   "file_extension": ".py",
   "mimetype": "text/x-python",
   "name": "python",
   "nbconvert_exporter": "python",
   "pygments_lexer": "ipython3",
   "version": "3.7.1"
  }
 },
 "nbformat": 4,
 "nbformat_minor": 2
}
