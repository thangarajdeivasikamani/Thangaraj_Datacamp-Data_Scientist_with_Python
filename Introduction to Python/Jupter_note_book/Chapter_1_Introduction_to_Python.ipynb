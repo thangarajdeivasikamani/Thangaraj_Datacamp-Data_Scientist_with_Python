{
 "cells": [
  {
   "cell_type": "code",
   "execution_count": 2,
   "metadata": {},
   "outputs": [
    {
     "name": "stdout",
     "output_type": "stream",
     "text": [
      "0.625\n",
      "17\n"
     ]
    }
   ],
   "source": [
    "# The Python Interface\n",
    "# In the Python script on the right, you can type Python code to solve the exercises. If you hit Run Code or Submit Answer, your python script (script.py) is executed and the output is shown in the IPython Shell. Submit Answer checks whether your submission is correct and gives you feedback.\n",
    "\n",
    "# You can hit Run Code and Submit Answer as often as you want. If you're stuck, you can click Get Hint, and ultimately Get Solution.\n",
    "\n",
    "# You can also use the IPython Shell interactively by simply typing commands and hitting Enter. When you work in the shell directly, your code will not be checked for correctness so it is a great way to experiment.\n",
    "\n",
    "# Instructions\n",
    "# 100 XP\n",
    "# Experiment in the IPython Shell; type 5 / 8, for example.\n",
    "# Add another line of code to the Python script on the top-right (not in the Shell): print(7 + 10).\n",
    "# Hit Submit Answer to execute the Python script and receive feedback.\n",
    "\n",
    "# Example, do not modify!\n",
    "print(5 / 8)\n",
    "\n",
    "# Put code below here\n",
    "print(7 + 10)"
   ]
  },
  {
   "cell_type": "code",
   "execution_count": 3,
   "metadata": {},
   "outputs": [
    {
     "name": "stdout",
     "output_type": "stream",
     "text": [
      "0.625\n",
      "17\n"
     ]
    }
   ],
   "source": [
    "# Exercise\n",
    "# Exercise\n",
    "# Any comments?\n",
    "# Something that Filip didn't mention in his videos is that you can add comments to your Python scripts. Comments are important to make sure that you and others can understand what your code is about.\n",
    "\n",
    "# To add comments to your Python script, you can use the # tag. These comments are not run as Python code, so they will not influence your result. As an example, take the comment on the right, # Division; it is completely ignored during execution.\n",
    "\n",
    "# Instructions\n",
    "# 100 XP\n",
    "# Above the print(7 + 10), add the comment # Addition.\n",
    "\n",
    "\n",
    "# Division\n",
    "print(5 / 8)\n",
    "\n",
    "#Addition\n",
    "print(7 + 10)"
   ]
  },
  {
   "cell_type": "code",
   "execution_count": 4,
   "metadata": {},
   "outputs": [
    {
     "name": "stdout",
     "output_type": "stream",
     "text": [
      "10\n",
      "0\n",
      "15\n",
      "5.0\n",
      "4\n",
      "16\n",
      "194.87171000000012\n"
     ]
    }
   ],
   "source": [
    "# Python as a calculator\n",
    "# Python is perfectly suited to do basic calculations. Apart from addition, subtraction, multiplication and division, there is also support for more advanced operations such as:\n",
    "\n",
    "# Exponentiation: **. This operator raises the number to its left to the power of the number to its right. For example 4**2 will give 16.\n",
    "# Modulo: %. This operator returns the remainder of the division of the number to the left by the number on its right. For example 18 % 7 equals 4.\n",
    "# The code in the script on the right gives some examples.\n",
    "\n",
    "# Instructions\n",
    "# 100 XP\n",
    "# Instructions\n",
    "# 100 XP\n",
    "# Suppose you have $100, which you can invest with a 10% return each year. After one year, it's 100Ã—1.1=110 dollars, and after two years it's 100Ã—1.1Ã—1.1=121. Add code on the right to calculate how much money you end up with after 7 years.\n",
    "\n",
    "# Addition, subtraction\n",
    "print(5 + 5)\n",
    "print(5 - 5)\n",
    "\n",
    "# Multiplication, division, modulo, and exponentiation\n",
    "print(3 * 5)\n",
    "print(10 / 2)\n",
    "print(18 % 7)\n",
    "print(4 ** 2)\n",
    "\n",
    "# How much is your $100 worth after 7 years?\n",
    "print(100 * 1.1**7)"
   ]
  },
  {
   "cell_type": "code",
   "execution_count": 5,
   "metadata": {},
   "outputs": [
    {
     "name": "stdout",
     "output_type": "stream",
     "text": [
      "100\n"
     ]
    }
   ],
   "source": [
    "# Variable Assignment\n",
    "# In Python, a variable allows you to refer to a value with a name. To create a variable use =, like this example:\n",
    "\n",
    "# x = 5\n",
    "# You can now use the name of this variable, x, instead of the actual value, 5.\n",
    "\n",
    "# Remember, = in Python means assignment, it doesn't test equality!\n",
    "\n",
    "# Instructions\n",
    "# 100 XP\n",
    "# Create a variable savings with the value 100.\n",
    "# Check out this variable by typing print(savings) in the script.\n",
    "\n",
    "# Create a variable savings\n",
    "savings = 100\n",
    "\n",
    "# Print out savings\n",
    "print(savings)\n",
    "\n"
   ]
  },
  {
   "cell_type": "code",
   "execution_count": 6,
   "metadata": {},
   "outputs": [
    {
     "name": "stdout",
     "output_type": "stream",
     "text": [
      "194.87171000000012\n"
     ]
    }
   ],
   "source": [
    "# Calculations with variables\n",
    "# Remember how you calculated the money you ended up with after 7 years of investing $100? You did something like this:\n",
    "\n",
    "# 100 * 1.1 ** 7\n",
    "# Instead of calculating with the actual values, you can use variables instead. The savings variable you've created in the previous exercise represents the $100 you started with. It's up to you to create a new variable to represent 1.1 and then redo the calculations!\n",
    "\n",
    "# Instructions\n",
    "# 100 XP\n",
    "# Create a variable growth_multiplier, equal to 1.1.\n",
    "# Create a variable, result, equal to the amount of money you saved after 7 years.\n",
    "# Print out the value of result.\n",
    "\n",
    "# Create a variable savings\n",
    "savings = 100\n",
    "\n",
    "# Create a variable factor\n",
    "growth_multiplier = 1.1\n",
    "\n",
    "# Calculate result\n",
    "result = savings * growth_multiplier ** 7\n",
    "\n",
    "# Print out result\n",
    "print(result)\n"
   ]
  },
  {
   "cell_type": "code",
   "execution_count": 7,
   "metadata": {
    "collapsed": true
   },
   "outputs": [],
   "source": [
    "# Other variable types\n",
    "# In the previous exercise, you worked with two Python data types:\n",
    "\n",
    "# int, or integer: a number without a fractional part. savings, with the value 100, is an example of an integer.\n",
    "# float, or floating point: a number that has both an integer and fractional part, separated by a point. growth_multiplier, with the value 1.1, is an example of a float.\n",
    "# Next to numerical data types, there are two other very common data types:\n",
    "\n",
    "# str, or string: a type to represent text. You can use single or double quotes to build a string.\n",
    "# bool, or boolean: a type to represent logical values. Can only be True or False (the capitalization is important!).\n",
    "# Instructions\n",
    "# 100 XP\n",
    "# Instructions\n",
    "# 100 XP\n",
    "# Create a new string, desc, with the value \"compound interest\".\n",
    "# Create a new boolean, profitable, with the value True.\n",
    "\n",
    "# Create a variable desc\n",
    "desc = \"compound interest\"\n",
    "\n",
    "# Create a variable profitable\n",
    "profitable = True\n"
   ]
  },
  {
   "cell_type": "code",
   "execution_count": 8,
   "metadata": {},
   "outputs": [
    {
     "name": "stdout",
     "output_type": "stream",
     "text": [
      "<class 'float'>\n",
      "compound interestcompound interest\n"
     ]
    }
   ],
   "source": [
    "# Operations with other types\n",
    "# Filip mentioned that different types behave differently in Python.\n",
    "\n",
    "# When you sum two strings, for example, you'll get different behavior than when you sum two integers or two booleans.\n",
    "\n",
    "# In the script some variables with different types have already been created. It's up to you to use them.\n",
    "\n",
    "# Instructions\n",
    "# 100 XP\n",
    "# Instructions\n",
    "# 100 XP\n",
    "# Calculate the product of savings and growth_multiplier. Store the result in year1.\n",
    "# What do you think the resulting type will be? Find out by printing out the type of year1.\n",
    "# Calculate the sum of desc and desc and store the result in a new variable doubledesc.\n",
    "# Print out doubledesc. Did you expect this?\n",
    "\n",
    "savings = 100\n",
    "growth_multiplier = 1.1\n",
    "desc = \"compound interest\"\n",
    "\n",
    "# Assign product of growth_multiplier and savings to year1\n",
    "year1 = savings * growth_multiplier\n",
    "\n",
    "# Print the type of year1\n",
    "print(type(year1))\n",
    "\n",
    "# Assign sum of desc and desc to doubledesc\n",
    "doubledesc = desc + desc\n",
    "\n",
    "# Print out doubledesc\n",
    "print(doubledesc)\n"
   ]
  },
  {
   "cell_type": "code",
   "execution_count": null,
   "metadata": {
    "collapsed": true
   },
   "outputs": [],
   "source": [
    "# Type conversion\n",
    "# Using the + operator to paste together two strings can be very useful in building custom messages.\n",
    "\n",
    "# Suppose, for example, that you've calculated the return of your investment and want to summarize the results in a string. Assuming the floats savings and result are defined, you can try something like this:\n",
    "\n",
    "# print(\"I started with $\" + savings + \" and now have $\" + result + \". Awesome!\")\n",
    "# This will not work, though, as you cannot simply sum strings and floats.\n",
    "\n",
    "# To fix the error, you'll need to explicitly convert the types of your variables. More specifically, you'll need str(), to convert a value into a string. str(savings), for example, will convert the float savings to a string.\n",
    "\n",
    "# Similar functions such as int(), float() and bool() will help you convert Python values into any type.\n",
    "\n",
    "# Instructions\n",
    "# 100 XP\n",
    "# Hit Run Code to run the code on the right. Try to understand the error message.\n",
    "# Fix the code on the right such that the printout runs without errors; use the function str() to convert the variables to strings.\n",
    "# Convert the variable pi_string to a float and store this float as a new variable, pi_float.\n",
    "\n",
    "# Definition of savings and result\n",
    "savings = 100\n",
    "result = 100 * 1.10 ** 7\n",
    "\n",
    "# Fix the printout\n",
    "print(\"I started with $\" + str(savings) + \" and now have $\" + str(result) + \". Awesome!\")\n",
    "\n",
    "# Definition of pi_string\n",
    "pi_string = \"3.1415926\"\n",
    "\n",
    "# Convert pi_string into float: pi_float\n",
    "pi_float = float(pi_string)\n",
    "\n",
    "print(type(pi_float))\n"
   ]
  }
 ],
 "metadata": {
  "kernelspec": {
   "display_name": "Python 3",
   "language": "python",
   "name": "python3"
  },
  "language_info": {
   "codemirror_mode": {
    "name": "ipython",
    "version": 3
   },
   "file_extension": ".py",
   "mimetype": "text/x-python",
   "name": "python",
   "nbconvert_exporter": "python",
   "pygments_lexer": "ipython3",
   "version": "3.6.2"
  }
 },
 "nbformat": 4,
 "nbformat_minor": 2
}
